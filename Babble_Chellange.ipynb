{
 "cells": [
  {
   "cell_type": "code",
   "execution_count": 1,
   "metadata": {
    "collapsed": true
   },
   "outputs": [],
   "source": [
    "# Set the working directory\n",
    "\n",
    "import os\n",
    "os.chdir(\"C:/specdata/Babble/extracted_data\")"
   ]
  },
  {
   "cell_type": "code",
   "execution_count": 2,
   "metadata": {
    "collapsed": true
   },
   "outputs": [],
   "source": [
    "import pandas as pd\n",
    "file1 = pd.read_csv(\"learner_item_data.csv\")"
   ]
  },
  {
   "cell_type": "code",
   "execution_count": 3,
   "metadata": {
    "collapsed": false,
    "scrolled": true
   },
   "outputs": [
    {
     "data": {
      "text/html": [
       "<div>\n",
       "<table border=\"1\" class=\"dataframe\">\n",
       "  <thead>\n",
       "    <tr style=\"text-align: right;\">\n",
       "      <th></th>\n",
       "      <th>uuid</th>\n",
       "      <th>created_at</th>\n",
       "      <th>trainer_item_id</th>\n",
       "    </tr>\n",
       "  </thead>\n",
       "  <tbody>\n",
       "    <tr>\n",
       "      <th>0</th>\n",
       "      <td>6953977</td>\n",
       "      <td>2017-01-16 10:54:43.386</td>\n",
       "      <td>0</td>\n",
       "    </tr>\n",
       "    <tr>\n",
       "      <th>1</th>\n",
       "      <td>6953977</td>\n",
       "      <td>2017-01-16 10:56:25.717</td>\n",
       "      <td>1</td>\n",
       "    </tr>\n",
       "    <tr>\n",
       "      <th>2</th>\n",
       "      <td>6953977</td>\n",
       "      <td>2017-01-16 10:55:50.642</td>\n",
       "      <td>2</td>\n",
       "    </tr>\n",
       "    <tr>\n",
       "      <th>3</th>\n",
       "      <td>6953977</td>\n",
       "      <td>2017-01-16 10:54:19.796</td>\n",
       "      <td>3</td>\n",
       "    </tr>\n",
       "    <tr>\n",
       "      <th>4</th>\n",
       "      <td>6953977</td>\n",
       "      <td>2017-01-16 10:55:10.654</td>\n",
       "      <td>1</td>\n",
       "    </tr>\n",
       "  </tbody>\n",
       "</table>\n",
       "</div>"
      ],
      "text/plain": [
       "      uuid               created_at  trainer_item_id\n",
       "0  6953977  2017-01-16 10:54:43.386                0\n",
       "1  6953977  2017-01-16 10:56:25.717                1\n",
       "2  6953977  2017-01-16 10:55:50.642                2\n",
       "3  6953977  2017-01-16 10:54:19.796                3\n",
       "4  6953977  2017-01-16 10:55:10.654                1"
      ]
     },
     "execution_count": 3,
     "metadata": {},
     "output_type": "execute_result"
    }
   ],
   "source": [
    "file1.head(5)"
   ]
  },
  {
   "cell_type": "code",
   "execution_count": 4,
   "metadata": {
    "collapsed": false
   },
   "outputs": [
    {
     "data": {
      "text/plain": [
       "(1144310, 3)"
      ]
     },
     "execution_count": 4,
     "metadata": {},
     "output_type": "execute_result"
    }
   ],
   "source": [
    "# Check data shape\n",
    "\n",
    "file1.shape"
   ]
  },
  {
   "cell_type": "code",
   "execution_count": 5,
   "metadata": {
    "collapsed": false
   },
   "outputs": [
    {
     "data": {
      "text/plain": [
       "uuid                int64\n",
       "created_at         object\n",
       "trainer_item_id     int64\n",
       "dtype: object"
      ]
     },
     "execution_count": 5,
     "metadata": {},
     "output_type": "execute_result"
    }
   ],
   "source": [
    "#check the data type\n",
    "file1.dtypes"
   ]
  },
  {
   "cell_type": "code",
   "execution_count": 6,
   "metadata": {
    "collapsed": true
   },
   "outputs": [],
   "source": [
    "#trainer_item_id is a float. It must be converted to time stamp data type- datetime\n",
    "file1['created_at'] = pd.to_datetime(file1.created_at)"
   ]
  },
  {
   "cell_type": "code",
   "execution_count": 7,
   "metadata": {
    "collapsed": false
   },
   "outputs": [
    {
     "data": {
      "text/plain": [
       "uuid                        int64\n",
       "created_at         datetime64[ns]\n",
       "trainer_item_id             int64\n",
       "dtype: object"
      ]
     },
     "execution_count": 7,
     "metadata": {},
     "output_type": "execute_result"
    }
   ],
   "source": [
    "#check the data type conversion\n",
    "file1.dtypes"
   ]
  },
  {
   "cell_type": "code",
   "execution_count": 8,
   "metadata": {
    "collapsed": false
   },
   "outputs": [
    {
     "data": {
      "text/html": [
       "<div>\n",
       "<table border=\"1\" class=\"dataframe\">\n",
       "  <thead>\n",
       "    <tr style=\"text-align: right;\">\n",
       "      <th></th>\n",
       "      <th>uuid</th>\n",
       "      <th>created_at</th>\n",
       "      <th>trainer_item_id</th>\n",
       "    </tr>\n",
       "  </thead>\n",
       "  <tbody>\n",
       "    <tr>\n",
       "      <th>0</th>\n",
       "      <td>6953977</td>\n",
       "      <td>2017-01-16 10:54:43.386</td>\n",
       "      <td>0</td>\n",
       "    </tr>\n",
       "    <tr>\n",
       "      <th>1</th>\n",
       "      <td>6953977</td>\n",
       "      <td>2017-01-16 10:56:25.717</td>\n",
       "      <td>1</td>\n",
       "    </tr>\n",
       "    <tr>\n",
       "      <th>2</th>\n",
       "      <td>6953977</td>\n",
       "      <td>2017-01-16 10:55:50.642</td>\n",
       "      <td>2</td>\n",
       "    </tr>\n",
       "    <tr>\n",
       "      <th>3</th>\n",
       "      <td>6953977</td>\n",
       "      <td>2017-01-16 10:54:19.796</td>\n",
       "      <td>3</td>\n",
       "    </tr>\n",
       "    <tr>\n",
       "      <th>4</th>\n",
       "      <td>6953977</td>\n",
       "      <td>2017-01-16 10:55:10.654</td>\n",
       "      <td>1</td>\n",
       "    </tr>\n",
       "  </tbody>\n",
       "</table>\n",
       "</div>"
      ],
      "text/plain": [
       "      uuid              created_at  trainer_item_id\n",
       "0  6953977 2017-01-16 10:54:43.386                0\n",
       "1  6953977 2017-01-16 10:56:25.717                1\n",
       "2  6953977 2017-01-16 10:55:50.642                2\n",
       "3  6953977 2017-01-16 10:54:19.796                3\n",
       "4  6953977 2017-01-16 10:55:10.654                1"
      ]
     },
     "execution_count": 8,
     "metadata": {},
     "output_type": "execute_result"
    }
   ],
   "source": [
    "#How the data looks now\n",
    "file1.head()"
   ]
  },
  {
   "cell_type": "code",
   "execution_count": 9,
   "metadata": {
    "collapsed": false,
    "scrolled": true
   },
   "outputs": [
    {
     "name": "stderr",
     "output_type": "stream",
     "text": [
      "C:\\Users\\Amar\\Anaconda3\\lib\\site-packages\\ipykernel\\__main__.py:2: FutureWarning: by argument to sort_index is deprecated, pls use .sort_values(by=...)\n",
      "  from ipykernel import kernelapp as app\n"
     ]
    },
    {
     "data": {
      "text/html": [
       "<div>\n",
       "<table border=\"1\" class=\"dataframe\">\n",
       "  <thead>\n",
       "    <tr style=\"text-align: right;\">\n",
       "      <th></th>\n",
       "      <th>uuid</th>\n",
       "      <th>created_at</th>\n",
       "      <th>trainer_item_id</th>\n",
       "    </tr>\n",
       "  </thead>\n",
       "  <tbody>\n",
       "    <tr>\n",
       "      <th>689933</th>\n",
       "      <td>2990</td>\n",
       "      <td>2016-12-25 11:27:22.905</td>\n",
       "      <td>2</td>\n",
       "    </tr>\n",
       "    <tr>\n",
       "      <th>689927</th>\n",
       "      <td>2990</td>\n",
       "      <td>2016-12-25 11:27:28.985</td>\n",
       "      <td>0</td>\n",
       "    </tr>\n",
       "    <tr>\n",
       "      <th>689931</th>\n",
       "      <td>2990</td>\n",
       "      <td>2016-12-25 11:27:33.603</td>\n",
       "      <td>3</td>\n",
       "    </tr>\n",
       "    <tr>\n",
       "      <th>689929</th>\n",
       "      <td>2990</td>\n",
       "      <td>2016-12-25 11:27:38.010</td>\n",
       "      <td>1</td>\n",
       "    </tr>\n",
       "    <tr>\n",
       "      <th>689544</th>\n",
       "      <td>2990</td>\n",
       "      <td>2016-12-28 09:40:57.271</td>\n",
       "      <td>604</td>\n",
       "    </tr>\n",
       "    <tr>\n",
       "      <th>689548</th>\n",
       "      <td>2990</td>\n",
       "      <td>2016-12-28 09:41:14.758</td>\n",
       "      <td>608</td>\n",
       "    </tr>\n",
       "    <tr>\n",
       "      <th>689546</th>\n",
       "      <td>2990</td>\n",
       "      <td>2016-12-28 09:41:28.846</td>\n",
       "      <td>603</td>\n",
       "    </tr>\n",
       "    <tr>\n",
       "      <th>689542</th>\n",
       "      <td>2990</td>\n",
       "      <td>2016-12-28 09:41:44.542</td>\n",
       "      <td>606</td>\n",
       "    </tr>\n",
       "    <tr>\n",
       "      <th>689550</th>\n",
       "      <td>2990</td>\n",
       "      <td>2016-12-28 09:42:01.644</td>\n",
       "      <td>602</td>\n",
       "    </tr>\n",
       "    <tr>\n",
       "      <th>689540</th>\n",
       "      <td>2990</td>\n",
       "      <td>2016-12-28 09:42:20.077</td>\n",
       "      <td>605</td>\n",
       "    </tr>\n",
       "    <tr>\n",
       "      <th>690562</th>\n",
       "      <td>2990</td>\n",
       "      <td>2016-12-31 15:06:06.425</td>\n",
       "      <td>1508</td>\n",
       "    </tr>\n",
       "    <tr>\n",
       "      <th>690548</th>\n",
       "      <td>2990</td>\n",
       "      <td>2016-12-31 15:06:14.822</td>\n",
       "      <td>1508</td>\n",
       "    </tr>\n",
       "    <tr>\n",
       "      <th>690549</th>\n",
       "      <td>2990</td>\n",
       "      <td>2016-12-31 15:06:40.247</td>\n",
       "      <td>1445</td>\n",
       "    </tr>\n",
       "    <tr>\n",
       "      <th>690496</th>\n",
       "      <td>2990</td>\n",
       "      <td>2016-12-31 15:06:50.230</td>\n",
       "      <td>1509</td>\n",
       "    </tr>\n",
       "    <tr>\n",
       "      <th>689491</th>\n",
       "      <td>2990</td>\n",
       "      <td>2016-12-31 15:07:01.550</td>\n",
       "      <td>1509</td>\n",
       "    </tr>\n",
       "    <tr>\n",
       "      <th>690561</th>\n",
       "      <td>2990</td>\n",
       "      <td>2016-12-31 15:07:12.669</td>\n",
       "      <td>1509</td>\n",
       "    </tr>\n",
       "    <tr>\n",
       "      <th>690513</th>\n",
       "      <td>2990</td>\n",
       "      <td>2016-12-31 15:07:19.661</td>\n",
       "      <td>1492</td>\n",
       "    </tr>\n",
       "    <tr>\n",
       "      <th>690554</th>\n",
       "      <td>2990</td>\n",
       "      <td>2016-12-31 15:09:48.748</td>\n",
       "      <td>1508</td>\n",
       "    </tr>\n",
       "    <tr>\n",
       "      <th>690514</th>\n",
       "      <td>2990</td>\n",
       "      <td>2016-12-31 15:10:03.134</td>\n",
       "      <td>1445</td>\n",
       "    </tr>\n",
       "    <tr>\n",
       "      <th>690555</th>\n",
       "      <td>2990</td>\n",
       "      <td>2016-12-31 15:10:24.172</td>\n",
       "      <td>1445</td>\n",
       "    </tr>\n",
       "    <tr>\n",
       "      <th>689495</th>\n",
       "      <td>2990</td>\n",
       "      <td>2016-12-31 15:10:39.093</td>\n",
       "      <td>1509</td>\n",
       "    </tr>\n",
       "    <tr>\n",
       "      <th>690512</th>\n",
       "      <td>2990</td>\n",
       "      <td>2016-12-31 15:10:52.477</td>\n",
       "      <td>1509</td>\n",
       "    </tr>\n",
       "    <tr>\n",
       "      <th>689535</th>\n",
       "      <td>2990</td>\n",
       "      <td>2016-12-31 15:12:05.459</td>\n",
       "      <td>1508</td>\n",
       "    </tr>\n",
       "    <tr>\n",
       "      <th>690563</th>\n",
       "      <td>2990</td>\n",
       "      <td>2016-12-31 15:12:18.620</td>\n",
       "      <td>1445</td>\n",
       "    </tr>\n",
       "    <tr>\n",
       "      <th>690552</th>\n",
       "      <td>2990</td>\n",
       "      <td>2016-12-31 15:13:03.997</td>\n",
       "      <td>1509</td>\n",
       "    </tr>\n",
       "    <tr>\n",
       "      <th>689493</th>\n",
       "      <td>2990</td>\n",
       "      <td>2016-12-31 15:14:52.625</td>\n",
       "      <td>1522</td>\n",
       "    </tr>\n",
       "    <tr>\n",
       "      <th>690522</th>\n",
       "      <td>2990</td>\n",
       "      <td>2016-12-31 15:15:30.267</td>\n",
       "      <td>1447</td>\n",
       "    </tr>\n",
       "    <tr>\n",
       "      <th>689483</th>\n",
       "      <td>2990</td>\n",
       "      <td>2016-12-31 15:15:57.610</td>\n",
       "      <td>1487</td>\n",
       "    </tr>\n",
       "    <tr>\n",
       "      <th>689485</th>\n",
       "      <td>2990</td>\n",
       "      <td>2016-12-31 15:16:51.155</td>\n",
       "      <td>1493</td>\n",
       "    </tr>\n",
       "    <tr>\n",
       "      <th>689487</th>\n",
       "      <td>2990</td>\n",
       "      <td>2016-12-31 15:17:06.082</td>\n",
       "      <td>1449</td>\n",
       "    </tr>\n",
       "    <tr>\n",
       "      <th>690567</th>\n",
       "      <td>2990</td>\n",
       "      <td>2016-12-31 15:17:27.217</td>\n",
       "      <td>1473</td>\n",
       "    </tr>\n",
       "    <tr>\n",
       "      <th>690569</th>\n",
       "      <td>2990</td>\n",
       "      <td>2016-12-31 15:17:46.995</td>\n",
       "      <td>1465</td>\n",
       "    </tr>\n",
       "    <tr>\n",
       "      <th>690515</th>\n",
       "      <td>2990</td>\n",
       "      <td>2016-12-31 15:18:10.032</td>\n",
       "      <td>1515</td>\n",
       "    </tr>\n",
       "    <tr>\n",
       "      <th>689489</th>\n",
       "      <td>2990</td>\n",
       "      <td>2016-12-31 15:18:30.562</td>\n",
       "      <td>1519</td>\n",
       "    </tr>\n",
       "    <tr>\n",
       "      <th>689437</th>\n",
       "      <td>2990</td>\n",
       "      <td>2016-12-31 15:18:41.136</td>\n",
       "      <td>1491</td>\n",
       "    </tr>\n",
       "    <tr>\n",
       "      <th>690550</th>\n",
       "      <td>2990</td>\n",
       "      <td>2016-12-31 15:19:10.521</td>\n",
       "      <td>1522</td>\n",
       "    </tr>\n",
       "    <tr>\n",
       "      <th>690551</th>\n",
       "      <td>2990</td>\n",
       "      <td>2016-12-31 15:19:47.082</td>\n",
       "      <td>1447</td>\n",
       "    </tr>\n",
       "    <tr>\n",
       "      <th>689477</th>\n",
       "      <td>2990</td>\n",
       "      <td>2016-12-31 15:20:02.473</td>\n",
       "      <td>1447</td>\n",
       "    </tr>\n",
       "    <tr>\n",
       "      <th>689531</th>\n",
       "      <td>2990</td>\n",
       "      <td>2016-12-31 15:20:26.455</td>\n",
       "      <td>1487</td>\n",
       "    </tr>\n",
       "    <tr>\n",
       "      <th>690568</th>\n",
       "      <td>2990</td>\n",
       "      <td>2016-12-31 15:20:47.609</td>\n",
       "      <td>1487</td>\n",
       "    </tr>\n",
       "    <tr>\n",
       "      <th>690557</th>\n",
       "      <td>2990</td>\n",
       "      <td>2016-12-31 15:21:03.097</td>\n",
       "      <td>1493</td>\n",
       "    </tr>\n",
       "    <tr>\n",
       "      <th>689431</th>\n",
       "      <td>2990</td>\n",
       "      <td>2016-12-31 15:21:11.233</td>\n",
       "      <td>1449</td>\n",
       "    </tr>\n",
       "    <tr>\n",
       "      <th>689479</th>\n",
       "      <td>2990</td>\n",
       "      <td>2016-12-31 15:21:28.387</td>\n",
       "      <td>1473</td>\n",
       "    </tr>\n",
       "    <tr>\n",
       "      <th>689435</th>\n",
       "      <td>2990</td>\n",
       "      <td>2016-12-31 15:21:46.753</td>\n",
       "      <td>1473</td>\n",
       "    </tr>\n",
       "    <tr>\n",
       "      <th>690570</th>\n",
       "      <td>2990</td>\n",
       "      <td>2016-12-31 15:21:59.170</td>\n",
       "      <td>1465</td>\n",
       "    </tr>\n",
       "    <tr>\n",
       "      <th>690571</th>\n",
       "      <td>2990</td>\n",
       "      <td>2016-12-31 15:22:13.058</td>\n",
       "      <td>1515</td>\n",
       "    </tr>\n",
       "    <tr>\n",
       "      <th>689433</th>\n",
       "      <td>2990</td>\n",
       "      <td>2016-12-31 15:22:30.041</td>\n",
       "      <td>1519</td>\n",
       "    </tr>\n",
       "    <tr>\n",
       "      <th>689529</th>\n",
       "      <td>2990</td>\n",
       "      <td>2016-12-31 15:22:36.520</td>\n",
       "      <td>1491</td>\n",
       "    </tr>\n",
       "    <tr>\n",
       "      <th>689533</th>\n",
       "      <td>2990</td>\n",
       "      <td>2016-12-31 15:23:07.568</td>\n",
       "      <td>1447</td>\n",
       "    </tr>\n",
       "    <tr>\n",
       "      <th>689447</th>\n",
       "      <td>2990</td>\n",
       "      <td>2016-12-31 15:23:24.544</td>\n",
       "      <td>1487</td>\n",
       "    </tr>\n",
       "  </tbody>\n",
       "</table>\n",
       "</div>"
      ],
      "text/plain": [
       "        uuid              created_at  trainer_item_id\n",
       "689933  2990 2016-12-25 11:27:22.905                2\n",
       "689927  2990 2016-12-25 11:27:28.985                0\n",
       "689931  2990 2016-12-25 11:27:33.603                3\n",
       "689929  2990 2016-12-25 11:27:38.010                1\n",
       "689544  2990 2016-12-28 09:40:57.271              604\n",
       "689548  2990 2016-12-28 09:41:14.758              608\n",
       "689546  2990 2016-12-28 09:41:28.846              603\n",
       "689542  2990 2016-12-28 09:41:44.542              606\n",
       "689550  2990 2016-12-28 09:42:01.644              602\n",
       "689540  2990 2016-12-28 09:42:20.077              605\n",
       "690562  2990 2016-12-31 15:06:06.425             1508\n",
       "690548  2990 2016-12-31 15:06:14.822             1508\n",
       "690549  2990 2016-12-31 15:06:40.247             1445\n",
       "690496  2990 2016-12-31 15:06:50.230             1509\n",
       "689491  2990 2016-12-31 15:07:01.550             1509\n",
       "690561  2990 2016-12-31 15:07:12.669             1509\n",
       "690513  2990 2016-12-31 15:07:19.661             1492\n",
       "690554  2990 2016-12-31 15:09:48.748             1508\n",
       "690514  2990 2016-12-31 15:10:03.134             1445\n",
       "690555  2990 2016-12-31 15:10:24.172             1445\n",
       "689495  2990 2016-12-31 15:10:39.093             1509\n",
       "690512  2990 2016-12-31 15:10:52.477             1509\n",
       "689535  2990 2016-12-31 15:12:05.459             1508\n",
       "690563  2990 2016-12-31 15:12:18.620             1445\n",
       "690552  2990 2016-12-31 15:13:03.997             1509\n",
       "689493  2990 2016-12-31 15:14:52.625             1522\n",
       "690522  2990 2016-12-31 15:15:30.267             1447\n",
       "689483  2990 2016-12-31 15:15:57.610             1487\n",
       "689485  2990 2016-12-31 15:16:51.155             1493\n",
       "689487  2990 2016-12-31 15:17:06.082             1449\n",
       "690567  2990 2016-12-31 15:17:27.217             1473\n",
       "690569  2990 2016-12-31 15:17:46.995             1465\n",
       "690515  2990 2016-12-31 15:18:10.032             1515\n",
       "689489  2990 2016-12-31 15:18:30.562             1519\n",
       "689437  2990 2016-12-31 15:18:41.136             1491\n",
       "690550  2990 2016-12-31 15:19:10.521             1522\n",
       "690551  2990 2016-12-31 15:19:47.082             1447\n",
       "689477  2990 2016-12-31 15:20:02.473             1447\n",
       "689531  2990 2016-12-31 15:20:26.455             1487\n",
       "690568  2990 2016-12-31 15:20:47.609             1487\n",
       "690557  2990 2016-12-31 15:21:03.097             1493\n",
       "689431  2990 2016-12-31 15:21:11.233             1449\n",
       "689479  2990 2016-12-31 15:21:28.387             1473\n",
       "689435  2990 2016-12-31 15:21:46.753             1473\n",
       "690570  2990 2016-12-31 15:21:59.170             1465\n",
       "690571  2990 2016-12-31 15:22:13.058             1515\n",
       "689433  2990 2016-12-31 15:22:30.041             1519\n",
       "689529  2990 2016-12-31 15:22:36.520             1491\n",
       "689533  2990 2016-12-31 15:23:07.568             1447\n",
       "689447  2990 2016-12-31 15:23:24.544             1487"
      ]
     },
     "execution_count": 9,
     "metadata": {},
     "output_type": "execute_result"
    }
   ],
   "source": [
    "#Sort dataframe by uuid and timestamp\n",
    "file1=file1.sort_index(by=['uuid', 'created_at'], ascending=[True, True])\n",
    "file1.head(50)"
   ]
  },
  {
   "cell_type": "code",
   "execution_count": 10,
   "metadata": {
    "collapsed": false
   },
   "outputs": [
    {
     "data": {
      "text/html": [
       "<div>\n",
       "<table border=\"1\" class=\"dataframe\">\n",
       "  <thead>\n",
       "    <tr style=\"text-align: right;\">\n",
       "      <th></th>\n",
       "      <th>uuid</th>\n",
       "      <th>created_at</th>\n",
       "      <th>trainer_item_id</th>\n",
       "    </tr>\n",
       "  </thead>\n",
       "  <tbody>\n",
       "    <tr>\n",
       "      <th>0</th>\n",
       "      <td>2990</td>\n",
       "      <td>2016-12-25 11:27:22.905</td>\n",
       "      <td>2</td>\n",
       "    </tr>\n",
       "    <tr>\n",
       "      <th>1</th>\n",
       "      <td>2990</td>\n",
       "      <td>2016-12-25 11:27:28.985</td>\n",
       "      <td>0</td>\n",
       "    </tr>\n",
       "    <tr>\n",
       "      <th>2</th>\n",
       "      <td>2990</td>\n",
       "      <td>2016-12-25 11:27:33.603</td>\n",
       "      <td>3</td>\n",
       "    </tr>\n",
       "    <tr>\n",
       "      <th>3</th>\n",
       "      <td>2990</td>\n",
       "      <td>2016-12-25 11:27:38.010</td>\n",
       "      <td>1</td>\n",
       "    </tr>\n",
       "    <tr>\n",
       "      <th>4</th>\n",
       "      <td>2990</td>\n",
       "      <td>2016-12-28 09:40:57.271</td>\n",
       "      <td>604</td>\n",
       "    </tr>\n",
       "  </tbody>\n",
       "</table>\n",
       "</div>"
      ],
      "text/plain": [
       "   uuid              created_at  trainer_item_id\n",
       "0  2990 2016-12-25 11:27:22.905                2\n",
       "1  2990 2016-12-25 11:27:28.985                0\n",
       "2  2990 2016-12-25 11:27:33.603                3\n",
       "3  2990 2016-12-25 11:27:38.010                1\n",
       "4  2990 2016-12-28 09:40:57.271              604"
      ]
     },
     "execution_count": 10,
     "metadata": {},
     "output_type": "execute_result"
    }
   ],
   "source": [
    "#reset index\n",
    "file1=file1.reset_index(drop=True)\n",
    "file1.head()"
   ]
  },
  {
   "cell_type": "code",
   "execution_count": 11,
   "metadata": {
    "collapsed": false
   },
   "outputs": [],
   "source": [
    "#'created' is a copy of 'created_at' column so that original colum is kept as it is.\n",
    "import numpy as np\n",
    "file1['created']= file1['created_at']"
   ]
  },
  {
   "cell_type": "code",
   "execution_count": 12,
   "metadata": {
    "collapsed": false
   },
   "outputs": [
    {
     "data": {
      "text/html": [
       "<div>\n",
       "<table border=\"1\" class=\"dataframe\">\n",
       "  <thead>\n",
       "    <tr style=\"text-align: right;\">\n",
       "      <th></th>\n",
       "      <th>uuid</th>\n",
       "      <th>created_at</th>\n",
       "      <th>trainer_item_id</th>\n",
       "      <th>created</th>\n",
       "    </tr>\n",
       "  </thead>\n",
       "  <tbody>\n",
       "    <tr>\n",
       "      <th>0</th>\n",
       "      <td>2990</td>\n",
       "      <td>2016-12-25 11:27:22.905</td>\n",
       "      <td>2</td>\n",
       "      <td>2016-12-25 11:27:22.905</td>\n",
       "    </tr>\n",
       "    <tr>\n",
       "      <th>1</th>\n",
       "      <td>2990</td>\n",
       "      <td>2016-12-25 11:27:28.985</td>\n",
       "      <td>0</td>\n",
       "      <td>2016-12-25 11:27:28.985</td>\n",
       "    </tr>\n",
       "    <tr>\n",
       "      <th>2</th>\n",
       "      <td>2990</td>\n",
       "      <td>2016-12-25 11:27:33.603</td>\n",
       "      <td>3</td>\n",
       "      <td>2016-12-25 11:27:33.603</td>\n",
       "    </tr>\n",
       "    <tr>\n",
       "      <th>3</th>\n",
       "      <td>2990</td>\n",
       "      <td>2016-12-25 11:27:38.010</td>\n",
       "      <td>1</td>\n",
       "      <td>2016-12-25 11:27:38.010</td>\n",
       "    </tr>\n",
       "    <tr>\n",
       "      <th>4</th>\n",
       "      <td>2990</td>\n",
       "      <td>2016-12-28 09:40:57.271</td>\n",
       "      <td>604</td>\n",
       "      <td>2016-12-28 09:40:57.271</td>\n",
       "    </tr>\n",
       "  </tbody>\n",
       "</table>\n",
       "</div>"
      ],
      "text/plain": [
       "   uuid              created_at  trainer_item_id                 created\n",
       "0  2990 2016-12-25 11:27:22.905                2 2016-12-25 11:27:22.905\n",
       "1  2990 2016-12-25 11:27:28.985                0 2016-12-25 11:27:28.985\n",
       "2  2990 2016-12-25 11:27:33.603                3 2016-12-25 11:27:33.603\n",
       "3  2990 2016-12-25 11:27:38.010                1 2016-12-25 11:27:38.010\n",
       "4  2990 2016-12-28 09:40:57.271              604 2016-12-28 09:40:57.271"
      ]
     },
     "execution_count": 12,
     "metadata": {},
     "output_type": "execute_result"
    }
   ],
   "source": [
    "file1.head()"
   ]
  },
  {
   "cell_type": "code",
   "execution_count": 13,
   "metadata": {
    "collapsed": false
   },
   "outputs": [
    {
     "data": {
      "text/plain": [
       "uuid                        int64\n",
       "created_at         datetime64[ns]\n",
       "trainer_item_id             int64\n",
       "created            datetime64[ns]\n",
       "dtype: object"
      ]
     },
     "execution_count": 13,
     "metadata": {},
     "output_type": "execute_result"
    }
   ],
   "source": [
    "file1.dtypes"
   ]
  },
  {
   "cell_type": "code",
   "execution_count": 14,
   "metadata": {
    "collapsed": true
   },
   "outputs": [],
   "source": [
    "# Create a time delta ['delta'] from the recently crated, 'created' column. \n",
    "file1['delta'] = (file1['created']-file1['created'].shift())\n",
    "\n",
    "# The time delta thus formed do not reset itself when user ID changes. Therefore, a for loop is used below to reset \n",
    "# the time delta to zero whenever the user id changes. "
   ]
  },
  {
   "cell_type": "code",
   "execution_count": 15,
   "metadata": {
    "collapsed": false
   },
   "outputs": [
    {
     "data": {
      "text/plain": [
       "uuid                         int64\n",
       "created_at          datetime64[ns]\n",
       "trainer_item_id              int64\n",
       "created             datetime64[ns]\n",
       "delta              timedelta64[ns]\n",
       "dtype: object"
      ]
     },
     "execution_count": 15,
     "metadata": {},
     "output_type": "execute_result"
    }
   ],
   "source": [
    "# check the data type for 'delta'\n",
    "file1.dtypes"
   ]
  },
  {
   "cell_type": "code",
   "execution_count": 16,
   "metadata": {
    "collapsed": false
   },
   "outputs": [
    {
     "name": "stderr",
     "output_type": "stream",
     "text": [
      "C:\\Users\\Amar\\Anaconda3\\lib\\site-packages\\ipykernel\\__main__.py:7: SettingWithCopyWarning: \n",
      "A value is trying to be set on a copy of a slice from a DataFrame\n",
      "\n",
      "See the caveats in the documentation: http://pandas.pydata.org/pandas-docs/stable/indexing.html#indexing-view-versus-copy\n"
     ]
    }
   ],
   "source": [
    "# Reset file1['delta'], which is the time delta, to 0 when user id changes. \n",
    "\n",
    "import time\n",
    "from datetime import datetime, timedelta\n",
    "for z in range(1, len(file1)):\n",
    "    if file1['uuid'][z] != file1['uuid'][z-1]:\n",
    "        file1['delta'][z] = timedelta(days=0, hours=0, seconds=0)\n",
    "        "
   ]
  },
  {
   "cell_type": "code",
   "execution_count": 17,
   "metadata": {
    "collapsed": false
   },
   "outputs": [],
   "source": [
    "# Extract hour from time delta and store it in file1['delta_hr']. This colum will be used to create sessions\n",
    "\n",
    "file1['delta_hr']= file1['delta']/pd.Timedelta('1h')"
   ]
  },
  {
   "cell_type": "code",
   "execution_count": 18,
   "metadata": {
    "collapsed": false
   },
   "outputs": [
    {
     "data": {
      "text/plain": [
       "uuid                         int64\n",
       "created_at          datetime64[ns]\n",
       "trainer_item_id              int64\n",
       "created             datetime64[ns]\n",
       "delta              timedelta64[ns]\n",
       "delta_hr                   float64\n",
       "dtype: object"
      ]
     },
     "execution_count": 18,
     "metadata": {},
     "output_type": "execute_result"
    }
   ],
   "source": [
    "file1.dtypes"
   ]
  },
  {
   "cell_type": "code",
   "execution_count": 19,
   "metadata": {
    "collapsed": true
   },
   "outputs": [],
   "source": [
    "# Create a empty column file1['section'] with NaN. The session details will be stored here.\n",
    "import numpy as np\n",
    "file1['section']=np.nan"
   ]
  },
  {
   "cell_type": "code",
   "execution_count": 20,
   "metadata": {
    "collapsed": false
   },
   "outputs": [
    {
     "name": "stderr",
     "output_type": "stream",
     "text": [
      "C:\\Users\\Amar\\Anaconda3\\lib\\site-packages\\ipykernel\\__main__.py:13: SettingWithCopyWarning: \n",
      "A value is trying to be set on a copy of a slice from a DataFrame\n",
      "\n",
      "See the caveats in the documentation: http://pandas.pydata.org/pandas-docs/stable/indexing.html#indexing-view-versus-copy\n"
     ]
    }
   ],
   "source": [
    "# n represents the session number and sit is set to 100. 100 represents session 1, 200 represents session 2 and so on. \n",
    "# the cells of file1['section'] is of the type float/int. The sessions number can be processed by dividing it by 100.\n",
    "\n",
    "# This loop increments the session number by 100 whenever there is a gap of an hour. \n",
    "# As soon as the user id changes the session is reset to 100. \n",
    "n=100\n",
    "\n",
    "#set the first cell as section 1 and the for loop starts from 1\n",
    "file1.loc[0,'section']= n\n",
    "for i in range(1, len(file1)):\n",
    "    if file1['uuid'][i]== file1['uuid'][i-1]:\n",
    "        if (int(file1['delta_hr'][i]))>=1:\n",
    "            file1['section'][i] = n+100\n",
    "            n=n+100\n",
    "    else: \n",
    "        n=100\n",
    "  \n",
    "       "
   ]
  },
  {
   "cell_type": "code",
   "execution_count": 21,
   "metadata": {
    "collapsed": false
   },
   "outputs": [
    {
     "name": "stderr",
     "output_type": "stream",
     "text": [
      "C:\\Users\\Amar\\Anaconda3\\lib\\site-packages\\ipykernel\\__main__.py:6: SettingWithCopyWarning: \n",
      "A value is trying to be set on a copy of a slice from a DataFrame\n",
      "\n",
      "See the caveats in the documentation: http://pandas.pydata.org/pandas-docs/stable/indexing.html#indexing-view-versus-copy\n"
     ]
    }
   ],
   "source": [
    "# The resetting of the session number to 100 for new user ID is done separately because of processing constraints. \n",
    "# If enough processing power is availble then the loops can be combined by if-elif-else command. \n",
    "\n",
    "for j in range(1, len(file1)):\n",
    "    if file1['uuid'][j]!= file1['uuid'][j-1]:\n",
    "        file1['section'][j] = 100"
   ]
  },
  {
   "cell_type": "code",
   "execution_count": 22,
   "metadata": {
    "collapsed": true
   },
   "outputs": [],
   "source": [
    "# To optimise the processing speed and time, above loop enters value only at the first instances. The remaining cells are filled\n",
    "# by using usinf scikit learn/pandas data imputation strategy of forward fill. This signifcantly reduces the processing time. \n",
    "\n",
    "file1['section']= file1['section'].fillna(method='ffill')"
   ]
  },
  {
   "cell_type": "code",
   "execution_count": 23,
   "metadata": {
    "collapsed": false
   },
   "outputs": [],
   "source": [
    "# fill the first cell of 'delta' with 0\n",
    "\n",
    "file1=file1.fillna(0)"
   ]
  },
  {
   "cell_type": "code",
   "execution_count": 24,
   "metadata": {
    "collapsed": false
   },
   "outputs": [
    {
     "data": {
      "text/html": [
       "<div>\n",
       "<table border=\"1\" class=\"dataframe\">\n",
       "  <thead>\n",
       "    <tr style=\"text-align: right;\">\n",
       "      <th></th>\n",
       "      <th>uuid</th>\n",
       "      <th>created_at</th>\n",
       "      <th>trainer_item_id</th>\n",
       "      <th>created</th>\n",
       "      <th>delta</th>\n",
       "      <th>delta_hr</th>\n",
       "      <th>section</th>\n",
       "    </tr>\n",
       "  </thead>\n",
       "  <tbody>\n",
       "    <tr>\n",
       "      <th>0</th>\n",
       "      <td>2990</td>\n",
       "      <td>2016-12-25 11:27:22.905</td>\n",
       "      <td>2</td>\n",
       "      <td>2016-12-25 11:27:22.905</td>\n",
       "      <td>0 days 00:00:00</td>\n",
       "      <td>0.000000</td>\n",
       "      <td>100.0</td>\n",
       "    </tr>\n",
       "    <tr>\n",
       "      <th>1</th>\n",
       "      <td>2990</td>\n",
       "      <td>2016-12-25 11:27:28.985</td>\n",
       "      <td>0</td>\n",
       "      <td>2016-12-25 11:27:28.985</td>\n",
       "      <td>0 days 00:00:06.080000</td>\n",
       "      <td>0.001689</td>\n",
       "      <td>100.0</td>\n",
       "    </tr>\n",
       "    <tr>\n",
       "      <th>2</th>\n",
       "      <td>2990</td>\n",
       "      <td>2016-12-25 11:27:33.603</td>\n",
       "      <td>3</td>\n",
       "      <td>2016-12-25 11:27:33.603</td>\n",
       "      <td>0 days 00:00:04.618000</td>\n",
       "      <td>0.001283</td>\n",
       "      <td>100.0</td>\n",
       "    </tr>\n",
       "    <tr>\n",
       "      <th>3</th>\n",
       "      <td>2990</td>\n",
       "      <td>2016-12-25 11:27:38.010</td>\n",
       "      <td>1</td>\n",
       "      <td>2016-12-25 11:27:38.010</td>\n",
       "      <td>0 days 00:00:04.407000</td>\n",
       "      <td>0.001224</td>\n",
       "      <td>100.0</td>\n",
       "    </tr>\n",
       "    <tr>\n",
       "      <th>4</th>\n",
       "      <td>2990</td>\n",
       "      <td>2016-12-28 09:40:57.271</td>\n",
       "      <td>604</td>\n",
       "      <td>2016-12-28 09:40:57.271</td>\n",
       "      <td>2 days 22:13:19.261000</td>\n",
       "      <td>70.222017</td>\n",
       "      <td>200.0</td>\n",
       "    </tr>\n",
       "  </tbody>\n",
       "</table>\n",
       "</div>"
      ],
      "text/plain": [
       "   uuid              created_at  trainer_item_id                 created  \\\n",
       "0  2990 2016-12-25 11:27:22.905                2 2016-12-25 11:27:22.905   \n",
       "1  2990 2016-12-25 11:27:28.985                0 2016-12-25 11:27:28.985   \n",
       "2  2990 2016-12-25 11:27:33.603                3 2016-12-25 11:27:33.603   \n",
       "3  2990 2016-12-25 11:27:38.010                1 2016-12-25 11:27:38.010   \n",
       "4  2990 2016-12-28 09:40:57.271              604 2016-12-28 09:40:57.271   \n",
       "\n",
       "                   delta   delta_hr  section  \n",
       "0        0 days 00:00:00   0.000000    100.0  \n",
       "1 0 days 00:00:06.080000   0.001689    100.0  \n",
       "2 0 days 00:00:04.618000   0.001283    100.0  \n",
       "3 0 days 00:00:04.407000   0.001224    100.0  \n",
       "4 2 days 22:13:19.261000  70.222017    200.0  "
      ]
     },
     "execution_count": 24,
     "metadata": {},
     "output_type": "execute_result"
    }
   ],
   "source": [
    "file1.head()"
   ]
  },
  {
   "cell_type": "markdown",
   "metadata": {},
   "source": [
    "Next few lines of code will calculate the mean time taken to finish each session. To calculate this, a separate data frame, called length, is created. The data for length is imputed by slicing the data from the main dataframe file1. The data is sliced from file1 for each session (100, 200, 300 and so on) and mean is calculated for each session. \n",
    "\n",
    "The DataFrame, length, is created by value counts of sessions (section) of file 1. "
   ]
  },
  {
   "cell_type": "code",
   "execution_count": 25,
   "metadata": {
    "collapsed": false
   },
   "outputs": [],
   "source": [
    "length = file1.section.value_counts()"
   ]
  },
  {
   "cell_type": "code",
   "execution_count": 26,
   "metadata": {
    "collapsed": false
   },
   "outputs": [],
   "source": [
    "# Convert length to DataFrame.\n",
    "length = length.to_frame().reset_index()"
   ]
  },
  {
   "cell_type": "code",
   "execution_count": 27,
   "metadata": {
    "collapsed": false
   },
   "outputs": [
    {
     "data": {
      "text/html": [
       "<div>\n",
       "<table border=\"1\" class=\"dataframe\">\n",
       "  <thead>\n",
       "    <tr style=\"text-align: right;\">\n",
       "      <th></th>\n",
       "      <th>index</th>\n",
       "      <th>section</th>\n",
       "    </tr>\n",
       "  </thead>\n",
       "  <tbody>\n",
       "    <tr>\n",
       "      <th>0</th>\n",
       "      <td>100.0</td>\n",
       "      <td>210388</td>\n",
       "    </tr>\n",
       "    <tr>\n",
       "      <th>1</th>\n",
       "      <td>200.0</td>\n",
       "      <td>143317</td>\n",
       "    </tr>\n",
       "    <tr>\n",
       "      <th>2</th>\n",
       "      <td>300.0</td>\n",
       "      <td>111244</td>\n",
       "    </tr>\n",
       "    <tr>\n",
       "      <th>3</th>\n",
       "      <td>400.0</td>\n",
       "      <td>93025</td>\n",
       "    </tr>\n",
       "    <tr>\n",
       "      <th>4</th>\n",
       "      <td>500.0</td>\n",
       "      <td>76045</td>\n",
       "    </tr>\n",
       "  </tbody>\n",
       "</table>\n",
       "</div>"
      ],
      "text/plain": [
       "   index  section\n",
       "0  100.0   210388\n",
       "1  200.0   143317\n",
       "2  300.0   111244\n",
       "3  400.0    93025\n",
       "4  500.0    76045"
      ]
     },
     "execution_count": 27,
     "metadata": {},
     "output_type": "execute_result"
    }
   ],
   "source": [
    "length.head()"
   ]
  },
  {
   "cell_type": "code",
   "execution_count": 28,
   "metadata": {
    "collapsed": true
   },
   "outputs": [],
   "source": [
    "# Create an empty column to store mean time for each session\n",
    "\n",
    "length['mean_time']= np.nan"
   ]
  },
  {
   "cell_type": "code",
   "execution_count": 29,
   "metadata": {
    "collapsed": false
   },
   "outputs": [],
   "source": [
    "length = length.rename(columns={'index': 'session'})"
   ]
  },
  {
   "cell_type": "code",
   "execution_count": 30,
   "metadata": {
    "collapsed": false
   },
   "outputs": [
    {
     "data": {
      "text/html": [
       "<div>\n",
       "<table border=\"1\" class=\"dataframe\">\n",
       "  <thead>\n",
       "    <tr style=\"text-align: right;\">\n",
       "      <th></th>\n",
       "      <th>uuid</th>\n",
       "      <th>created_at</th>\n",
       "      <th>trainer_item_id</th>\n",
       "      <th>created</th>\n",
       "      <th>delta</th>\n",
       "      <th>delta_hr</th>\n",
       "      <th>section</th>\n",
       "    </tr>\n",
       "  </thead>\n",
       "  <tbody>\n",
       "    <tr>\n",
       "      <th>0</th>\n",
       "      <td>2990</td>\n",
       "      <td>2016-12-25 11:27:22.905</td>\n",
       "      <td>2</td>\n",
       "      <td>2016-12-25 11:27:22.905</td>\n",
       "      <td>00:00:00</td>\n",
       "      <td>0.000000</td>\n",
       "      <td>100.0</td>\n",
       "    </tr>\n",
       "    <tr>\n",
       "      <th>1</th>\n",
       "      <td>2990</td>\n",
       "      <td>2016-12-25 11:27:28.985</td>\n",
       "      <td>0</td>\n",
       "      <td>2016-12-25 11:27:28.985</td>\n",
       "      <td>00:00:06.080000</td>\n",
       "      <td>0.001689</td>\n",
       "      <td>100.0</td>\n",
       "    </tr>\n",
       "    <tr>\n",
       "      <th>2</th>\n",
       "      <td>2990</td>\n",
       "      <td>2016-12-25 11:27:33.603</td>\n",
       "      <td>3</td>\n",
       "      <td>2016-12-25 11:27:33.603</td>\n",
       "      <td>00:00:04.618000</td>\n",
       "      <td>0.001283</td>\n",
       "      <td>100.0</td>\n",
       "    </tr>\n",
       "    <tr>\n",
       "      <th>3</th>\n",
       "      <td>2990</td>\n",
       "      <td>2016-12-25 11:27:38.010</td>\n",
       "      <td>1</td>\n",
       "      <td>2016-12-25 11:27:38.010</td>\n",
       "      <td>00:00:04.407000</td>\n",
       "      <td>0.001224</td>\n",
       "      <td>100.0</td>\n",
       "    </tr>\n",
       "    <tr>\n",
       "      <th>1269</th>\n",
       "      <td>5015</td>\n",
       "      <td>2017-01-05 15:03:52.859</td>\n",
       "      <td>6621</td>\n",
       "      <td>2017-01-05 15:03:52.859</td>\n",
       "      <td>00:00:00</td>\n",
       "      <td>0.000000</td>\n",
       "      <td>100.0</td>\n",
       "    </tr>\n",
       "  </tbody>\n",
       "</table>\n",
       "</div>"
      ],
      "text/plain": [
       "      uuid              created_at  trainer_item_id                 created  \\\n",
       "0     2990 2016-12-25 11:27:22.905                2 2016-12-25 11:27:22.905   \n",
       "1     2990 2016-12-25 11:27:28.985                0 2016-12-25 11:27:28.985   \n",
       "2     2990 2016-12-25 11:27:33.603                3 2016-12-25 11:27:33.603   \n",
       "3     2990 2016-12-25 11:27:38.010                1 2016-12-25 11:27:38.010   \n",
       "1269  5015 2017-01-05 15:03:52.859             6621 2017-01-05 15:03:52.859   \n",
       "\n",
       "               delta  delta_hr  section  \n",
       "0           00:00:00  0.000000    100.0  \n",
       "1    00:00:06.080000  0.001689    100.0  \n",
       "2    00:00:04.618000  0.001283    100.0  \n",
       "3    00:00:04.407000  0.001224    100.0  \n",
       "1269        00:00:00  0.000000    100.0  "
      ]
     },
     "execution_count": 30,
     "metadata": {},
     "output_type": "execute_result"
    }
   ],
   "source": [
    "#Dataframe slicing test\n",
    "\n",
    "file1[file1.section== 100].head()"
   ]
  },
  {
   "cell_type": "code",
   "execution_count": 31,
   "metadata": {
    "collapsed": false,
    "scrolled": true
   },
   "outputs": [
    {
     "name": "stderr",
     "output_type": "stream",
     "text": [
      "C:\\Users\\Amar\\Anaconda3\\lib\\site-packages\\ipykernel\\__main__.py:5: SettingWithCopyWarning: \n",
      "A value is trying to be set on a copy of a slice from a DataFrame\n",
      "\n",
      "See the caveats in the documentation: http://pandas.pydata.org/pandas-docs/stable/indexing.html#indexing-view-versus-copy\n"
     ]
    }
   ],
   "source": [
    "# Loop to calculate mean time and store it in the column length['mean_time']\n",
    "\n",
    "for sess in range(len(length)):\n",
    "    ses_time= file1[file1.section== length['session'][sess]]\n",
    "    length['mean_time'][sess]= ses_time.delta_hr.mean(axis=0)"
   ]
  },
  {
   "cell_type": "markdown",
   "metadata": {},
   "source": [
    "The data stored in length can be used to plot the distribution of mean time for each session. Matplotlib is used to plot a \n",
    "simple histogram. The histogram is divided into 50 bins. The Y- ais shows the frequency and the X- axis show the range"
   ]
  },
  {
   "cell_type": "code",
   "execution_count": 32,
   "metadata": {
    "collapsed": false
   },
   "outputs": [
    {
     "name": "stderr",
     "output_type": "stream",
     "text": [
      "ERROR:root:Line magic function `%pylab.inline` not found.\n"
     ]
    }
   ],
   "source": [
    "import matplotlib.pyplot as plt\n",
    "%matplotlib inline\n",
    "import numpy as np\n",
    "%pylab.inline"
   ]
  },
  {
   "cell_type": "code",
   "execution_count": 34,
   "metadata": {
    "collapsed": false,
    "scrolled": true
   },
   "outputs": [
    {
     "data": {
      "text/plain": [
       "<matplotlib.text.Text at 0x2098b0f9d68>"
      ]
     },
     "execution_count": 34,
     "metadata": {},
     "output_type": "execute_result"
    },
    {
     "data": {
      "image/png": "[encoded data removed]",
      "text/plain": [
       "<matplotlib.figure.Figure at 0x2098b19c630>"
      ]
     },
     "metadata": {},
     "output_type": "display_data"
    }
   ],
   "source": [
    "plt.hist(length['mean_time'], bins=50)\n",
    "plt.title('Distribution of mean time for each session')\n",
    "plt.ylabel('Frequency')\n",
    "plt.xlabel('Distribution of mean time in 50 bins')"
   ]
  },
  {
   "cell_type": "markdown",
   "metadata": {},
   "source": [
    "Question: Using the sessions, answer the following questions. \n",
    "Use plots and text as you like to communicate your results. \n",
    "\n",
    "○ What is the distribution (histogram) of session lengths? \n",
    "\n",
    "The Graph shows that most of the sessions are completed within 0.5 hour. There are also few outliers. It is very unlikelt that the user will take more than an hour to finish a session. The outliers are may be because to user might have kept the application running, unattended.  \n",
    "    \n",
    "    "
   ]
  },
  {
   "cell_type": "markdown",
   "metadata": {},
   "source": [
    "How many people do several sessions a day? How many sessions? \n",
    "This question can be answered by doing value counts for 200. This will give number of people doing "
   ]
  },
  {
   "cell_type": "code",
   "execution_count": 35,
   "metadata": {
    "collapsed": false
   },
   "outputs": [
    {
     "data": {
      "text/html": [
       "<div>\n",
       "<table border=\"1\" class=\"dataframe\">\n",
       "  <thead>\n",
       "    <tr style=\"text-align: right;\">\n",
       "      <th></th>\n",
       "      <th>uuid</th>\n",
       "      <th>created_at</th>\n",
       "      <th>trainer_item_id</th>\n",
       "      <th>created</th>\n",
       "      <th>delta</th>\n",
       "      <th>delta_hr</th>\n",
       "      <th>section</th>\n",
       "    </tr>\n",
       "  </thead>\n",
       "  <tbody>\n",
       "    <tr>\n",
       "      <th>0</th>\n",
       "      <td>2990</td>\n",
       "      <td>2016-12-25 11:27:22.905</td>\n",
       "      <td>2</td>\n",
       "      <td>2016-12-25 11:27:22.905</td>\n",
       "      <td>0 days 00:00:00</td>\n",
       "      <td>0.000000</td>\n",
       "      <td>100.0</td>\n",
       "    </tr>\n",
       "    <tr>\n",
       "      <th>1</th>\n",
       "      <td>2990</td>\n",
       "      <td>2016-12-25 11:27:28.985</td>\n",
       "      <td>0</td>\n",
       "      <td>2016-12-25 11:27:28.985</td>\n",
       "      <td>0 days 00:00:06.080000</td>\n",
       "      <td>0.001689</td>\n",
       "      <td>100.0</td>\n",
       "    </tr>\n",
       "    <tr>\n",
       "      <th>2</th>\n",
       "      <td>2990</td>\n",
       "      <td>2016-12-25 11:27:33.603</td>\n",
       "      <td>3</td>\n",
       "      <td>2016-12-25 11:27:33.603</td>\n",
       "      <td>0 days 00:00:04.618000</td>\n",
       "      <td>0.001283</td>\n",
       "      <td>100.0</td>\n",
       "    </tr>\n",
       "    <tr>\n",
       "      <th>3</th>\n",
       "      <td>2990</td>\n",
       "      <td>2016-12-25 11:27:38.010</td>\n",
       "      <td>1</td>\n",
       "      <td>2016-12-25 11:27:38.010</td>\n",
       "      <td>0 days 00:00:04.407000</td>\n",
       "      <td>0.001224</td>\n",
       "      <td>100.0</td>\n",
       "    </tr>\n",
       "    <tr>\n",
       "      <th>4</th>\n",
       "      <td>2990</td>\n",
       "      <td>2016-12-28 09:40:57.271</td>\n",
       "      <td>604</td>\n",
       "      <td>2016-12-28 09:40:57.271</td>\n",
       "      <td>2 days 22:13:19.261000</td>\n",
       "      <td>70.222017</td>\n",
       "      <td>200.0</td>\n",
       "    </tr>\n",
       "  </tbody>\n",
       "</table>\n",
       "</div>"
      ],
      "text/plain": [
       "   uuid              created_at  trainer_item_id                 created  \\\n",
       "0  2990 2016-12-25 11:27:22.905                2 2016-12-25 11:27:22.905   \n",
       "1  2990 2016-12-25 11:27:28.985                0 2016-12-25 11:27:28.985   \n",
       "2  2990 2016-12-25 11:27:33.603                3 2016-12-25 11:27:33.603   \n",
       "3  2990 2016-12-25 11:27:38.010                1 2016-12-25 11:27:38.010   \n",
       "4  2990 2016-12-28 09:40:57.271              604 2016-12-28 09:40:57.271   \n",
       "\n",
       "                   delta   delta_hr  section  \n",
       "0        0 days 00:00:00   0.000000    100.0  \n",
       "1 0 days 00:00:06.080000   0.001689    100.0  \n",
       "2 0 days 00:00:04.618000   0.001283    100.0  \n",
       "3 0 days 00:00:04.407000   0.001224    100.0  \n",
       "4 2 days 22:13:19.261000  70.222017    200.0  "
      ]
     },
     "execution_count": 35,
     "metadata": {},
     "output_type": "execute_result"
    }
   ],
   "source": [
    "file1.head()"
   ]
  },
  {
   "cell_type": "code",
   "execution_count": 36,
   "metadata": {
    "collapsed": false
   },
   "outputs": [
    {
     "data": {
      "text/plain": [
       "1144310"
      ]
     },
     "execution_count": 36,
     "metadata": {},
     "output_type": "execute_result"
    }
   ],
   "source": [
    "len(file1)"
   ]
  },
  {
   "cell_type": "code",
   "execution_count": 37,
   "metadata": {
    "collapsed": false
   },
   "outputs": [],
   "source": [
    "# reate a temperory dataframe, temp\n",
    "\n",
    "temp = file1.delta.dt.days.to_frame().reset_index()"
   ]
  },
  {
   "cell_type": "code",
   "execution_count": 38,
   "metadata": {
    "collapsed": false
   },
   "outputs": [
    {
     "data": {
      "text/html": [
       "<div>\n",
       "<table border=\"1\" class=\"dataframe\">\n",
       "  <thead>\n",
       "    <tr style=\"text-align: right;\">\n",
       "      <th></th>\n",
       "      <th>index</th>\n",
       "      <th>delta</th>\n",
       "    </tr>\n",
       "  </thead>\n",
       "  <tbody>\n",
       "    <tr>\n",
       "      <th>0</th>\n",
       "      <td>0</td>\n",
       "      <td>0</td>\n",
       "    </tr>\n",
       "    <tr>\n",
       "      <th>1</th>\n",
       "      <td>1</td>\n",
       "      <td>0</td>\n",
       "    </tr>\n",
       "    <tr>\n",
       "      <th>2</th>\n",
       "      <td>2</td>\n",
       "      <td>0</td>\n",
       "    </tr>\n",
       "    <tr>\n",
       "      <th>3</th>\n",
       "      <td>3</td>\n",
       "      <td>0</td>\n",
       "    </tr>\n",
       "    <tr>\n",
       "      <th>4</th>\n",
       "      <td>4</td>\n",
       "      <td>2</td>\n",
       "    </tr>\n",
       "  </tbody>\n",
       "</table>\n",
       "</div>"
      ],
      "text/plain": [
       "   index  delta\n",
       "0      0      0\n",
       "1      1      0\n",
       "2      2      0\n",
       "3      3      0\n",
       "4      4      2"
      ]
     },
     "execution_count": 38,
     "metadata": {},
     "output_type": "execute_result"
    }
   ],
   "source": [
    "temp.head()"
   ]
  },
  {
   "cell_type": "code",
   "execution_count": 39,
   "metadata": {
    "collapsed": true
   },
   "outputs": [],
   "source": [
    "# Create a column with time delta days so that information is extracted for a day\n",
    "\n",
    "file1['day']= temp['delta']"
   ]
  },
  {
   "cell_type": "code",
   "execution_count": 40,
   "metadata": {
    "collapsed": false
   },
   "outputs": [
    {
     "data": {
      "text/html": [
       "<div>\n",
       "<table border=\"1\" class=\"dataframe\">\n",
       "  <thead>\n",
       "    <tr style=\"text-align: right;\">\n",
       "      <th></th>\n",
       "      <th>uuid</th>\n",
       "      <th>created_at</th>\n",
       "      <th>trainer_item_id</th>\n",
       "      <th>created</th>\n",
       "      <th>delta</th>\n",
       "      <th>delta_hr</th>\n",
       "      <th>section</th>\n",
       "      <th>day</th>\n",
       "    </tr>\n",
       "  </thead>\n",
       "  <tbody>\n",
       "    <tr>\n",
       "      <th>0</th>\n",
       "      <td>2990</td>\n",
       "      <td>2016-12-25 11:27:22.905</td>\n",
       "      <td>2</td>\n",
       "      <td>2016-12-25 11:27:22.905</td>\n",
       "      <td>0 days 00:00:00</td>\n",
       "      <td>0.000000</td>\n",
       "      <td>100.0</td>\n",
       "      <td>0</td>\n",
       "    </tr>\n",
       "    <tr>\n",
       "      <th>1</th>\n",
       "      <td>2990</td>\n",
       "      <td>2016-12-25 11:27:28.985</td>\n",
       "      <td>0</td>\n",
       "      <td>2016-12-25 11:27:28.985</td>\n",
       "      <td>0 days 00:00:06.080000</td>\n",
       "      <td>0.001689</td>\n",
       "      <td>100.0</td>\n",
       "      <td>0</td>\n",
       "    </tr>\n",
       "    <tr>\n",
       "      <th>2</th>\n",
       "      <td>2990</td>\n",
       "      <td>2016-12-25 11:27:33.603</td>\n",
       "      <td>3</td>\n",
       "      <td>2016-12-25 11:27:33.603</td>\n",
       "      <td>0 days 00:00:04.618000</td>\n",
       "      <td>0.001283</td>\n",
       "      <td>100.0</td>\n",
       "      <td>0</td>\n",
       "    </tr>\n",
       "    <tr>\n",
       "      <th>3</th>\n",
       "      <td>2990</td>\n",
       "      <td>2016-12-25 11:27:38.010</td>\n",
       "      <td>1</td>\n",
       "      <td>2016-12-25 11:27:38.010</td>\n",
       "      <td>0 days 00:00:04.407000</td>\n",
       "      <td>0.001224</td>\n",
       "      <td>100.0</td>\n",
       "      <td>0</td>\n",
       "    </tr>\n",
       "    <tr>\n",
       "      <th>4</th>\n",
       "      <td>2990</td>\n",
       "      <td>2016-12-28 09:40:57.271</td>\n",
       "      <td>604</td>\n",
       "      <td>2016-12-28 09:40:57.271</td>\n",
       "      <td>2 days 22:13:19.261000</td>\n",
       "      <td>70.222017</td>\n",
       "      <td>200.0</td>\n",
       "      <td>2</td>\n",
       "    </tr>\n",
       "  </tbody>\n",
       "</table>\n",
       "</div>"
      ],
      "text/plain": [
       "   uuid              created_at  trainer_item_id                 created  \\\n",
       "0  2990 2016-12-25 11:27:22.905                2 2016-12-25 11:27:22.905   \n",
       "1  2990 2016-12-25 11:27:28.985                0 2016-12-25 11:27:28.985   \n",
       "2  2990 2016-12-25 11:27:33.603                3 2016-12-25 11:27:33.603   \n",
       "3  2990 2016-12-25 11:27:38.010                1 2016-12-25 11:27:38.010   \n",
       "4  2990 2016-12-28 09:40:57.271              604 2016-12-28 09:40:57.271   \n",
       "\n",
       "                   delta   delta_hr  section  day  \n",
       "0        0 days 00:00:00   0.000000    100.0    0  \n",
       "1 0 days 00:00:06.080000   0.001689    100.0    0  \n",
       "2 0 days 00:00:04.618000   0.001283    100.0    0  \n",
       "3 0 days 00:00:04.407000   0.001224    100.0    0  \n",
       "4 2 days 22:13:19.261000  70.222017    200.0    2  "
      ]
     },
     "execution_count": 40,
     "metadata": {},
     "output_type": "execute_result"
    }
   ],
   "source": [
    "file1.head()"
   ]
  },
  {
   "cell_type": "code",
   "execution_count": 41,
   "metadata": {
    "collapsed": false
   },
   "outputs": [
    {
     "data": {
      "text/plain": [
       "1144310"
      ]
     },
     "execution_count": 41,
     "metadata": {},
     "output_type": "execute_result"
    }
   ],
   "source": [
    "len(file1)"
   ]
  },
  {
   "cell_type": "code",
   "execution_count": 42,
   "metadata": {
    "collapsed": true
   },
   "outputs": [],
   "source": [
    "#Slicing dataframe for 0 days and 200 section. \n",
    "#This DataFrame slice will extract the data for the people who do more than a session in a day (2 session)\n",
    "\n",
    "Q2= file1.loc[(file1.day==0) & (file1.section>=200) ] "
   ]
  },
  {
   "cell_type": "code",
   "execution_count": 43,
   "metadata": {
    "collapsed": false
   },
   "outputs": [
    {
     "data": {
      "text/plain": [
       "922602"
      ]
     },
     "execution_count": 43,
     "metadata": {},
     "output_type": "execute_result"
    }
   ],
   "source": [
    "#Number of people doing more than one session (several) a day\n",
    "\n",
    "len(Q2)"
   ]
  },
  {
   "cell_type": "code",
   "execution_count": 44,
   "metadata": {
    "collapsed": true
   },
   "outputs": [],
   "source": [
    "# 922602 people do mre than one session a day for the given file data"
   ]
  },
  {
   "cell_type": "code",
   "execution_count": 45,
   "metadata": {
    "collapsed": false
   },
   "outputs": [
    {
     "data": {
      "text/html": [
       "<div>\n",
       "<table border=\"1\" class=\"dataframe\">\n",
       "  <thead>\n",
       "    <tr style=\"text-align: right;\">\n",
       "      <th></th>\n",
       "      <th>uuid</th>\n",
       "      <th>created_at</th>\n",
       "      <th>trainer_item_id</th>\n",
       "      <th>created</th>\n",
       "      <th>delta</th>\n",
       "      <th>delta_hr</th>\n",
       "      <th>section</th>\n",
       "      <th>day</th>\n",
       "    </tr>\n",
       "  </thead>\n",
       "  <tbody>\n",
       "    <tr>\n",
       "      <th>5</th>\n",
       "      <td>2990</td>\n",
       "      <td>2016-12-28 09:41:14.758</td>\n",
       "      <td>608</td>\n",
       "      <td>2016-12-28 09:41:14.758</td>\n",
       "      <td>00:00:17.487000</td>\n",
       "      <td>0.004857</td>\n",
       "      <td>200.0</td>\n",
       "      <td>0</td>\n",
       "    </tr>\n",
       "    <tr>\n",
       "      <th>6</th>\n",
       "      <td>2990</td>\n",
       "      <td>2016-12-28 09:41:28.846</td>\n",
       "      <td>603</td>\n",
       "      <td>2016-12-28 09:41:28.846</td>\n",
       "      <td>00:00:14.088000</td>\n",
       "      <td>0.003913</td>\n",
       "      <td>200.0</td>\n",
       "      <td>0</td>\n",
       "    </tr>\n",
       "    <tr>\n",
       "      <th>7</th>\n",
       "      <td>2990</td>\n",
       "      <td>2016-12-28 09:41:44.542</td>\n",
       "      <td>606</td>\n",
       "      <td>2016-12-28 09:41:44.542</td>\n",
       "      <td>00:00:15.696000</td>\n",
       "      <td>0.004360</td>\n",
       "      <td>200.0</td>\n",
       "      <td>0</td>\n",
       "    </tr>\n",
       "    <tr>\n",
       "      <th>8</th>\n",
       "      <td>2990</td>\n",
       "      <td>2016-12-28 09:42:01.644</td>\n",
       "      <td>602</td>\n",
       "      <td>2016-12-28 09:42:01.644</td>\n",
       "      <td>00:00:17.102000</td>\n",
       "      <td>0.004751</td>\n",
       "      <td>200.0</td>\n",
       "      <td>0</td>\n",
       "    </tr>\n",
       "    <tr>\n",
       "      <th>9</th>\n",
       "      <td>2990</td>\n",
       "      <td>2016-12-28 09:42:20.077</td>\n",
       "      <td>605</td>\n",
       "      <td>2016-12-28 09:42:20.077</td>\n",
       "      <td>00:00:18.433000</td>\n",
       "      <td>0.005120</td>\n",
       "      <td>200.0</td>\n",
       "      <td>0</td>\n",
       "    </tr>\n",
       "  </tbody>\n",
       "</table>\n",
       "</div>"
      ],
      "text/plain": [
       "   uuid              created_at  trainer_item_id                 created  \\\n",
       "5  2990 2016-12-28 09:41:14.758              608 2016-12-28 09:41:14.758   \n",
       "6  2990 2016-12-28 09:41:28.846              603 2016-12-28 09:41:28.846   \n",
       "7  2990 2016-12-28 09:41:44.542              606 2016-12-28 09:41:44.542   \n",
       "8  2990 2016-12-28 09:42:01.644              602 2016-12-28 09:42:01.644   \n",
       "9  2990 2016-12-28 09:42:20.077              605 2016-12-28 09:42:20.077   \n",
       "\n",
       "            delta  delta_hr  section  day  \n",
       "5 00:00:17.487000  0.004857    200.0    0  \n",
       "6 00:00:14.088000  0.003913    200.0    0  \n",
       "7 00:00:15.696000  0.004360    200.0    0  \n",
       "8 00:00:17.102000  0.004751    200.0    0  \n",
       "9 00:00:18.433000  0.005120    200.0    0  "
      ]
     },
     "execution_count": 45,
     "metadata": {},
     "output_type": "execute_result"
    }
   ],
   "source": [
    "# Data check\n",
    "Q2.head()"
   ]
  },
  {
   "cell_type": "code",
   "execution_count": 46,
   "metadata": {
    "collapsed": false
   },
   "outputs": [],
   "source": [
    "#Extract maximum number of session by each user\n",
    "\n",
    "Q2_freq = Q2.groupby(['uuid'], sort=False)['section'].max()"
   ]
  },
  {
   "cell_type": "code",
   "execution_count": 47,
   "metadata": {
    "collapsed": false
   },
   "outputs": [],
   "source": [
    "Q2_freq= Q2_freq.to_frame().reset_index()"
   ]
  },
  {
   "cell_type": "code",
   "execution_count": 48,
   "metadata": {
    "collapsed": false
   },
   "outputs": [
    {
     "data": {
      "text/html": [
       "<div>\n",
       "<table border=\"1\" class=\"dataframe\">\n",
       "  <thead>\n",
       "    <tr style=\"text-align: right;\">\n",
       "      <th></th>\n",
       "      <th>uuid</th>\n",
       "      <th>section</th>\n",
       "    </tr>\n",
       "  </thead>\n",
       "  <tbody>\n",
       "    <tr>\n",
       "      <th>0</th>\n",
       "      <td>2990</td>\n",
       "      <td>2800.0</td>\n",
       "    </tr>\n",
       "    <tr>\n",
       "      <th>1</th>\n",
       "      <td>5015</td>\n",
       "      <td>400.0</td>\n",
       "    </tr>\n",
       "    <tr>\n",
       "      <th>2</th>\n",
       "      <td>6058</td>\n",
       "      <td>200.0</td>\n",
       "    </tr>\n",
       "    <tr>\n",
       "      <th>3</th>\n",
       "      <td>7740</td>\n",
       "      <td>400.0</td>\n",
       "    </tr>\n",
       "    <tr>\n",
       "      <th>4</th>\n",
       "      <td>12409</td>\n",
       "      <td>800.0</td>\n",
       "    </tr>\n",
       "  </tbody>\n",
       "</table>\n",
       "</div>"
      ],
      "text/plain": [
       "    uuid  section\n",
       "0   2990   2800.0\n",
       "1   5015    400.0\n",
       "2   6058    200.0\n",
       "3   7740    400.0\n",
       "4  12409    800.0"
      ]
     },
     "execution_count": 48,
     "metadata": {},
     "output_type": "execute_result"
    }
   ],
   "source": [
    "Q2_freq.head()"
   ]
  },
  {
   "cell_type": "code",
   "execution_count": 49,
   "metadata": {
    "collapsed": false
   },
   "outputs": [],
   "source": [
    "Q3_freq= (Q2_freq['section'].value_counts()).to_frame().reset_index()"
   ]
  },
  {
   "cell_type": "code",
   "execution_count": 50,
   "metadata": {
    "collapsed": false
   },
   "outputs": [
    {
     "data": {
      "text/html": [
       "<div>\n",
       "<table border=\"1\" class=\"dataframe\">\n",
       "  <thead>\n",
       "    <tr style=\"text-align: right;\">\n",
       "      <th></th>\n",
       "      <th>index</th>\n",
       "      <th>section</th>\n",
       "    </tr>\n",
       "  </thead>\n",
       "  <tbody>\n",
       "    <tr>\n",
       "      <th>0</th>\n",
       "      <td>200.0</td>\n",
       "      <td>1168</td>\n",
       "    </tr>\n",
       "    <tr>\n",
       "      <th>1</th>\n",
       "      <td>300.0</td>\n",
       "      <td>562</td>\n",
       "    </tr>\n",
       "    <tr>\n",
       "      <th>2</th>\n",
       "      <td>400.0</td>\n",
       "      <td>382</td>\n",
       "    </tr>\n",
       "    <tr>\n",
       "      <th>3</th>\n",
       "      <td>500.0</td>\n",
       "      <td>240</td>\n",
       "    </tr>\n",
       "    <tr>\n",
       "      <th>4</th>\n",
       "      <td>600.0</td>\n",
       "      <td>207</td>\n",
       "    </tr>\n",
       "  </tbody>\n",
       "</table>\n",
       "</div>"
      ],
      "text/plain": [
       "   index  section\n",
       "0  200.0     1168\n",
       "1  300.0      562\n",
       "2  400.0      382\n",
       "3  500.0      240\n",
       "4  600.0      207"
      ]
     },
     "execution_count": 50,
     "metadata": {},
     "output_type": "execute_result"
    }
   ],
   "source": [
    "Q3_freq.head(5)"
   ]
  },
  {
   "cell_type": "code",
   "execution_count": 51,
   "metadata": {
    "collapsed": true
   },
   "outputs": [],
   "source": [
    "Q3_freq= Q3_freq.rename(columns={'index': 'session_freq'})"
   ]
  },
  {
   "cell_type": "code",
   "execution_count": 52,
   "metadata": {
    "collapsed": false
   },
   "outputs": [
    {
     "data": {
      "text/html": [
       "<div>\n",
       "<table border=\"1\" class=\"dataframe\">\n",
       "  <thead>\n",
       "    <tr style=\"text-align: right;\">\n",
       "      <th></th>\n",
       "      <th>session_freq</th>\n",
       "      <th>section</th>\n",
       "    </tr>\n",
       "  </thead>\n",
       "  <tbody>\n",
       "    <tr>\n",
       "      <th>0</th>\n",
       "      <td>200.0</td>\n",
       "      <td>1168</td>\n",
       "    </tr>\n",
       "    <tr>\n",
       "      <th>1</th>\n",
       "      <td>300.0</td>\n",
       "      <td>562</td>\n",
       "    </tr>\n",
       "    <tr>\n",
       "      <th>2</th>\n",
       "      <td>400.0</td>\n",
       "      <td>382</td>\n",
       "    </tr>\n",
       "    <tr>\n",
       "      <th>3</th>\n",
       "      <td>500.0</td>\n",
       "      <td>240</td>\n",
       "    </tr>\n",
       "    <tr>\n",
       "      <th>4</th>\n",
       "      <td>600.0</td>\n",
       "      <td>207</td>\n",
       "    </tr>\n",
       "  </tbody>\n",
       "</table>\n",
       "</div>"
      ],
      "text/plain": [
       "   session_freq  section\n",
       "0         200.0     1168\n",
       "1         300.0      562\n",
       "2         400.0      382\n",
       "3         500.0      240\n",
       "4         600.0      207"
      ]
     },
     "execution_count": 52,
     "metadata": {},
     "output_type": "execute_result"
    }
   ],
   "source": [
    "Q3_freq.head(5)"
   ]
  },
  {
   "cell_type": "code",
   "execution_count": 53,
   "metadata": {
    "collapsed": true
   },
   "outputs": [],
   "source": [
    "Q3_freq= Q3_freq.loc[0:25, :]"
   ]
  },
  {
   "cell_type": "code",
   "execution_count": 84,
   "metadata": {
    "collapsed": false
   },
   "outputs": [
    {
     "data": {
      "text/html": [
       "<iframe id=\"igraph\" scrolling=\"no\" style=\"border:none;\" seamless=\"seamless\" src=\"https://plot.ly/~amar.nayak/74.embed\" height=\"525px\" width=\"100%\"></iframe>"
      ],
      "text/plain": [
       "<plotly.tools.PlotlyDisplay object>"
      ]
     },
     "execution_count": 84,
     "metadata": {},
     "output_type": "execute_result"
    }
   ],
   "source": [
    "import plotly.plotly as py\n",
    "import plotly.graph_objs as go\n",
    "\n",
    "data = [go.Bar(\n",
    "            x=(Q3_freq.session_freq)/100,\n",
    "            y=Q3_freq.section\n",
    "    )]\n",
    "\n",
    "py.iplot(data, filename='Frequency count')"
   ]
  },
  {
   "cell_type": "markdown",
   "metadata": {},
   "source": [
    "The detail chart can be viewed from here https://plot.ly/~amar.nayak/74/"
   ]
  },
  {
   "cell_type": "code",
   "execution_count": 53,
   "metadata": {
    "collapsed": true
   },
   "outputs": [],
   "source": [
    "#The above graph shows the frequency of sessions finished in a day. "
   ]
  },
  {
   "cell_type": "markdown",
   "metadata": {},
   "source": [
    "# Part 2: AB testing:\n"
   ]
  },
  {
   "cell_type": "markdown",
   "metadata": {},
   "source": [
    "Descritpion of the task: \n",
    "Assume Babbel built a new feature that is supposed to increase activity. To test if it actually increases activity it got released as an A/B test with 40% of the users seeing the new feature (test group) and 60% not seeing it (control group). You agreed with the Product Manager on two metrics to measure the activity: ○ Proportion of users per experiment group who do more than one session on at least one day ○ Median time per session "
   ]
  },
  {
   "cell_type": "markdown",
   "metadata": {},
   "source": [
    "The control and experiment group user ID is obtained from test_groups.csv. The data related to more than 1 session/day is obtaind from DataFrame Q2. However, Q2 has many data which are not related to control and test group. The DF concatination is carried to combine test/control data set and Q2"
   ]
  },
  {
   "cell_type": "markdown",
   "metadata": {},
   "source": [
    "The two given files, test_groups.csv and learner_item_data.csv, are connected to each other by primary key of user id (uuid). The logical way is to check and compare the uuid of both file. The uuid is checked for file1, Q2 and the original learner_item_data.csv."
   ]
  },
  {
   "cell_type": "code",
   "execution_count": 54,
   "metadata": {
    "collapsed": false
   },
   "outputs": [],
   "source": [
    "#Number of unique user id in Q2 dataframe\n",
    "nuid_Q2 = Q2['uuid'].value_counts()"
   ]
  },
  {
   "cell_type": "code",
   "execution_count": 55,
   "metadata": {
    "collapsed": false
   },
   "outputs": [
    {
     "data": {
      "text/plain": [
       "3435"
      ]
     },
     "execution_count": 55,
     "metadata": {},
     "output_type": "execute_result"
    }
   ],
   "source": [
    "len(nuid_Q2)"
   ]
  },
  {
   "cell_type": "code",
   "execution_count": 56,
   "metadata": {
    "collapsed": true
   },
   "outputs": [],
   "source": [
    "# Number of unique user id in last version of file1 data frame\n",
    "nuid_file1= len(file1['uuid'].value_counts())"
   ]
  },
  {
   "cell_type": "code",
   "execution_count": 57,
   "metadata": {
    "collapsed": false
   },
   "outputs": [
    {
     "data": {
      "text/plain": [
       "7355"
      ]
     },
     "execution_count": 57,
     "metadata": {},
     "output_type": "execute_result"
    }
   ],
   "source": [
    "nuid_file1"
   ]
  },
  {
   "cell_type": "code",
   "execution_count": 58,
   "metadata": {
    "collapsed": true
   },
   "outputs": [],
   "source": [
    "# Numbe of unique user id in learner_item_data.csv dataframe\n",
    "test= pd.read_csv(\"learner_item_data.csv\")"
   ]
  },
  {
   "cell_type": "code",
   "execution_count": 59,
   "metadata": {
    "collapsed": false
   },
   "outputs": [
    {
     "data": {
      "text/html": [
       "<div>\n",
       "<table border=\"1\" class=\"dataframe\">\n",
       "  <thead>\n",
       "    <tr style=\"text-align: right;\">\n",
       "      <th></th>\n",
       "      <th>uuid</th>\n",
       "      <th>created_at</th>\n",
       "      <th>trainer_item_id</th>\n",
       "    </tr>\n",
       "  </thead>\n",
       "  <tbody>\n",
       "    <tr>\n",
       "      <th>0</th>\n",
       "      <td>6953977</td>\n",
       "      <td>2017-01-16 10:54:43.386</td>\n",
       "      <td>0</td>\n",
       "    </tr>\n",
       "    <tr>\n",
       "      <th>1</th>\n",
       "      <td>6953977</td>\n",
       "      <td>2017-01-16 10:56:25.717</td>\n",
       "      <td>1</td>\n",
       "    </tr>\n",
       "    <tr>\n",
       "      <th>2</th>\n",
       "      <td>6953977</td>\n",
       "      <td>2017-01-16 10:55:50.642</td>\n",
       "      <td>2</td>\n",
       "    </tr>\n",
       "    <tr>\n",
       "      <th>3</th>\n",
       "      <td>6953977</td>\n",
       "      <td>2017-01-16 10:54:19.796</td>\n",
       "      <td>3</td>\n",
       "    </tr>\n",
       "    <tr>\n",
       "      <th>4</th>\n",
       "      <td>6953977</td>\n",
       "      <td>2017-01-16 10:55:10.654</td>\n",
       "      <td>1</td>\n",
       "    </tr>\n",
       "  </tbody>\n",
       "</table>\n",
       "</div>"
      ],
      "text/plain": [
       "      uuid               created_at  trainer_item_id\n",
       "0  6953977  2017-01-16 10:54:43.386                0\n",
       "1  6953977  2017-01-16 10:56:25.717                1\n",
       "2  6953977  2017-01-16 10:55:50.642                2\n",
       "3  6953977  2017-01-16 10:54:19.796                3\n",
       "4  6953977  2017-01-16 10:55:10.654                1"
      ]
     },
     "execution_count": 59,
     "metadata": {},
     "output_type": "execute_result"
    }
   ],
   "source": [
    "test.head()"
   ]
  },
  {
   "cell_type": "code",
   "execution_count": 60,
   "metadata": {
    "collapsed": false
   },
   "outputs": [
    {
     "data": {
      "text/plain": [
       "7355"
      ]
     },
     "execution_count": 60,
     "metadata": {},
     "output_type": "execute_result"
    }
   ],
   "source": [
    "len(test.uuid.value_counts())"
   ]
  },
  {
   "cell_type": "markdown",
   "metadata": {},
   "source": [
    "There is a descripncy of 1000 user id between the two given files. To test this claim, two given dataframe are merged together using pandas 'outer' command which creates union of two dataframe and imputes NaN for missing values."
   ]
  },
  {
   "cell_type": "code",
   "execution_count": 61,
   "metadata": {
    "collapsed": true
   },
   "outputs": [],
   "source": [
    "#Read the test file\n",
    "\n",
    "ABtest_data = pd.read_csv(\"control.csv\")"
   ]
  },
  {
   "cell_type": "code",
   "execution_count": 62,
   "metadata": {
    "collapsed": false
   },
   "outputs": [
    {
     "data": {
      "text/html": [
       "<div>\n",
       "<table border=\"1\" class=\"dataframe\">\n",
       "  <thead>\n",
       "    <tr style=\"text-align: right;\">\n",
       "      <th></th>\n",
       "      <th>uuid</th>\n",
       "      <th>group</th>\n",
       "    </tr>\n",
       "  </thead>\n",
       "  <tbody>\n",
       "    <tr>\n",
       "      <th>0</th>\n",
       "      <td>6953977</td>\n",
       "      <td>Control</td>\n",
       "    </tr>\n",
       "    <tr>\n",
       "      <th>1</th>\n",
       "      <td>6658627</td>\n",
       "      <td>Control</td>\n",
       "    </tr>\n",
       "    <tr>\n",
       "      <th>2</th>\n",
       "      <td>4848596</td>\n",
       "      <td>Control</td>\n",
       "    </tr>\n",
       "    <tr>\n",
       "      <th>3</th>\n",
       "      <td>5467411</td>\n",
       "      <td>Control</td>\n",
       "    </tr>\n",
       "    <tr>\n",
       "      <th>4</th>\n",
       "      <td>4330340</td>\n",
       "      <td>Control</td>\n",
       "    </tr>\n",
       "  </tbody>\n",
       "</table>\n",
       "</div>"
      ],
      "text/plain": [
       "      uuid    group\n",
       "0  6953977  Control\n",
       "1  6658627  Control\n",
       "2  4848596  Control\n",
       "3  5467411  Control\n",
       "4  4330340  Control"
      ]
     },
     "execution_count": 62,
     "metadata": {},
     "output_type": "execute_result"
    }
   ],
   "source": [
    "ABtest_data.head()"
   ]
  },
  {
   "cell_type": "code",
   "execution_count": 63,
   "metadata": {
    "collapsed": false
   },
   "outputs": [],
   "source": [
    "#Merge ABtest_data and file1 with pandas DF merge 'outer' command to identify missing values\n",
    "\n",
    "file1_AB= pd.merge(file1, ABtest_data, on='uuid', how = 'outer')"
   ]
  },
  {
   "cell_type": "code",
   "execution_count": 64,
   "metadata": {
    "collapsed": false
   },
   "outputs": [
    {
     "data": {
      "text/html": [
       "<div>\n",
       "<table border=\"1\" class=\"dataframe\">\n",
       "  <thead>\n",
       "    <tr style=\"text-align: right;\">\n",
       "      <th></th>\n",
       "      <th>uuid</th>\n",
       "      <th>created_at</th>\n",
       "      <th>trainer_item_id</th>\n",
       "      <th>created</th>\n",
       "      <th>delta</th>\n",
       "      <th>delta_hr</th>\n",
       "      <th>section</th>\n",
       "      <th>day</th>\n",
       "      <th>group</th>\n",
       "    </tr>\n",
       "  </thead>\n",
       "  <tbody>\n",
       "    <tr>\n",
       "      <th>1145305</th>\n",
       "      <td>4821945</td>\n",
       "      <td>NaT</td>\n",
       "      <td>NaN</td>\n",
       "      <td>NaT</td>\n",
       "      <td>NaT</td>\n",
       "      <td>NaN</td>\n",
       "      <td>NaN</td>\n",
       "      <td>NaN</td>\n",
       "      <td>Experiment</td>\n",
       "    </tr>\n",
       "    <tr>\n",
       "      <th>1145306</th>\n",
       "      <td>4600674</td>\n",
       "      <td>NaT</td>\n",
       "      <td>NaN</td>\n",
       "      <td>NaT</td>\n",
       "      <td>NaT</td>\n",
       "      <td>NaN</td>\n",
       "      <td>NaN</td>\n",
       "      <td>NaN</td>\n",
       "      <td>Experiment</td>\n",
       "    </tr>\n",
       "    <tr>\n",
       "      <th>1145307</th>\n",
       "      <td>7070816</td>\n",
       "      <td>NaT</td>\n",
       "      <td>NaN</td>\n",
       "      <td>NaT</td>\n",
       "      <td>NaT</td>\n",
       "      <td>NaN</td>\n",
       "      <td>NaN</td>\n",
       "      <td>NaN</td>\n",
       "      <td>Experiment</td>\n",
       "    </tr>\n",
       "    <tr>\n",
       "      <th>1145308</th>\n",
       "      <td>6020337</td>\n",
       "      <td>NaT</td>\n",
       "      <td>NaN</td>\n",
       "      <td>NaT</td>\n",
       "      <td>NaT</td>\n",
       "      <td>NaN</td>\n",
       "      <td>NaN</td>\n",
       "      <td>NaN</td>\n",
       "      <td>Experiment</td>\n",
       "    </tr>\n",
       "    <tr>\n",
       "      <th>1145309</th>\n",
       "      <td>6250668</td>\n",
       "      <td>NaT</td>\n",
       "      <td>NaN</td>\n",
       "      <td>NaT</td>\n",
       "      <td>NaT</td>\n",
       "      <td>NaN</td>\n",
       "      <td>NaN</td>\n",
       "      <td>NaN</td>\n",
       "      <td>Experiment</td>\n",
       "    </tr>\n",
       "  </tbody>\n",
       "</table>\n",
       "</div>"
      ],
      "text/plain": [
       "            uuid created_at  trainer_item_id created  delta  delta_hr  \\\n",
       "1145305  4821945        NaT              NaN     NaT    NaT       NaN   \n",
       "1145306  4600674        NaT              NaN     NaT    NaT       NaN   \n",
       "1145307  7070816        NaT              NaN     NaT    NaT       NaN   \n",
       "1145308  6020337        NaT              NaN     NaT    NaT       NaN   \n",
       "1145309  6250668        NaT              NaN     NaT    NaT       NaN   \n",
       "\n",
       "         section  day       group  \n",
       "1145305      NaN  NaN  Experiment  \n",
       "1145306      NaN  NaN  Experiment  \n",
       "1145307      NaN  NaN  Experiment  \n",
       "1145308      NaN  NaN  Experiment  \n",
       "1145309      NaN  NaN  Experiment  "
      ]
     },
     "execution_count": 64,
     "metadata": {},
     "output_type": "execute_result"
    }
   ],
   "source": [
    "# The NaN and NaT are accumulated at the end of the dataframe. \n",
    "\n",
    "file1_AB.tail()"
   ]
  },
  {
   "cell_type": "markdown",
   "metadata": {},
   "source": [
    "Calculate the number of user id without data for control and experiment group. This will change the proportion of participant under each group. This is calculated in next few steps with a temperary dataframe file1_AB_1"
   ]
  },
  {
   "cell_type": "code",
   "execution_count": 65,
   "metadata": {
    "collapsed": false
   },
   "outputs": [
    {
     "data": {
      "text/plain": [
       "uuid                  0\n",
       "created_at         1000\n",
       "trainer_item_id    1000\n",
       "created            1000\n",
       "delta              1000\n",
       "delta_hr           1000\n",
       "section            1000\n",
       "day                1000\n",
       "group                 0\n",
       "dtype: int64"
      ]
     },
     "execution_count": 65,
     "metadata": {},
     "output_type": "execute_result"
    }
   ],
   "source": [
    "file1_AB.isnull().sum()"
   ]
  },
  {
   "cell_type": "markdown",
   "metadata": {},
   "source": [
    "The above command confirms the assumptions that values for 1000 userid are missing. As a next step, the two given dataframe \n",
    "are merged with 'inner' command such that missing values are not included in the dataframe"
   ]
  },
  {
   "cell_type": "code",
   "execution_count": 66,
   "metadata": {
    "collapsed": true
   },
   "outputs": [],
   "source": [
    "file1_AB_2 = pd.merge(file1, ABtest_data, on='uuid', how = 'inner')"
   ]
  },
  {
   "cell_type": "code",
   "execution_count": 67,
   "metadata": {
    "collapsed": false
   },
   "outputs": [
    {
     "data": {
      "text/plain": [
       "uuid               0\n",
       "created_at         0\n",
       "trainer_item_id    0\n",
       "created            0\n",
       "delta              0\n",
       "delta_hr           0\n",
       "section            0\n",
       "day                0\n",
       "group              0\n",
       "dtype: int64"
      ]
     },
     "execution_count": 67,
     "metadata": {},
     "output_type": "execute_result"
    }
   ],
   "source": [
    "# Check for missing values\n",
    "\n",
    "file1_AB_2.isnull().sum()"
   ]
  },
  {
   "cell_type": "markdown",
   "metadata": {},
   "source": [
    "There are no missing values. Lets check the number of user id in this dataframe. It must come to 7355"
   ]
  },
  {
   "cell_type": "code",
   "execution_count": 68,
   "metadata": {
    "collapsed": false
   },
   "outputs": [
    {
     "data": {
      "text/plain": [
       "7355"
      ]
     },
     "execution_count": 68,
     "metadata": {},
     "output_type": "execute_result"
    }
   ],
   "source": [
    "len(file1_AB_2.uuid.value_counts())"
   ]
  },
  {
   "cell_type": "markdown",
   "metadata": {},
   "source": [
    "So the dataframe is ready for processing with 7355 user id. Lets check the number of control and experiment group in this data set"
   ]
  },
  {
   "cell_type": "code",
   "execution_count": 69,
   "metadata": {
    "collapsed": false
   },
   "outputs": [],
   "source": [
    "cont = file1_AB_2.loc[(file1_AB_2.group=='Control')] "
   ]
  },
  {
   "cell_type": "code",
   "execution_count": 70,
   "metadata": {
    "collapsed": false
   },
   "outputs": [
    {
     "data": {
      "text/plain": [
       "4309"
      ]
     },
     "execution_count": 70,
     "metadata": {},
     "output_type": "execute_result"
    }
   ],
   "source": [
    "len(cont.uuid.value_counts())"
   ]
  },
  {
   "cell_type": "markdown",
   "metadata": {},
   "source": [
    "There are 4309 user within the control group"
   ]
  },
  {
   "cell_type": "code",
   "execution_count": 71,
   "metadata": {
    "collapsed": true
   },
   "outputs": [],
   "source": [
    "exp = file1_AB_2.loc[(file1_AB_2.group=='Experiment')] "
   ]
  },
  {
   "cell_type": "code",
   "execution_count": 72,
   "metadata": {
    "collapsed": false
   },
   "outputs": [
    {
     "data": {
      "text/plain": [
       "3046"
      ]
     },
     "execution_count": 72,
     "metadata": {},
     "output_type": "execute_result"
    }
   ],
   "source": [
    "len(exp.uuid.value_counts())"
   ]
  },
  {
   "cell_type": "markdown",
   "metadata": {},
   "source": [
    "There are 3046 user within the experiment group."
   ]
  },
  {
   "cell_type": "markdown",
   "metadata": {},
   "source": [
    "Data is available for 7355 user and therefore the proportion is 58.5% control group and 41.5% experiment group"
   ]
  },
  {
   "cell_type": "markdown",
   "metadata": {},
   "source": [
    "## Control Group"
   ]
  },
  {
   "cell_type": "markdown",
   "metadata": {},
   "source": [
    "To calculate the proportion of users in control group who do more than one session on at least one day "
   ]
  },
  {
   "cell_type": "code",
   "execution_count": 73,
   "metadata": {
    "collapsed": true
   },
   "outputs": [],
   "source": [
    "cont_user = cont.loc[(cont.day==0) & (cont.section>=200) ] "
   ]
  },
  {
   "cell_type": "code",
   "execution_count": 74,
   "metadata": {
    "collapsed": false
   },
   "outputs": [
    {
     "data": {
      "text/plain": [
       "2031"
      ]
     },
     "execution_count": 74,
     "metadata": {},
     "output_type": "execute_result"
    }
   ],
   "source": [
    "len(cont_user.uuid.value_counts())"
   ]
  },
  {
   "cell_type": "markdown",
   "metadata": {},
   "source": [
    "There are 2031 user in cotrol group who does more than 2 session in a day"
   ]
  },
  {
   "cell_type": "code",
   "execution_count": 75,
   "metadata": {
    "collapsed": false
   },
   "outputs": [
    {
     "data": {
      "text/plain": [
       "0.0028333333333333335"
      ]
     },
     "execution_count": 75,
     "metadata": {},
     "output_type": "execute_result"
    }
   ],
   "source": [
    "# Median for all session\n",
    "cont_user.delta_hr.median()"
   ]
  },
  {
   "cell_type": "code",
   "execution_count": 76,
   "metadata": {
    "collapsed": false
   },
   "outputs": [
    {
     "data": {
      "text/plain": [
       "0.0028183333333333333"
      ]
     },
     "execution_count": 76,
     "metadata": {},
     "output_type": "execute_result"
    }
   ],
   "source": [
    "# Median for more than 1 session\n",
    "cont.delta_hr.median()"
   ]
  },
  {
   "cell_type": "markdown",
   "metadata": {},
   "source": [
    "Median time for each session in control group is 0.002833 hours"
   ]
  },
  {
   "cell_type": "markdown",
   "metadata": {},
   "source": [
    "## Experiment Group"
   ]
  },
  {
   "cell_type": "markdown",
   "metadata": {
    "collapsed": true
   },
   "source": [
    "To calculate the proportion of users in experiment group who do more than one session on at least one day "
   ]
  },
  {
   "cell_type": "code",
   "execution_count": 77,
   "metadata": {
    "collapsed": true
   },
   "outputs": [],
   "source": [
    "exp_user = exp.loc[(exp.day==0) & (exp.section>=200) ] "
   ]
  },
  {
   "cell_type": "code",
   "execution_count": 78,
   "metadata": {
    "collapsed": false
   },
   "outputs": [
    {
     "data": {
      "text/plain": [
       "1404"
      ]
     },
     "execution_count": 78,
     "metadata": {},
     "output_type": "execute_result"
    }
   ],
   "source": [
    "len(exp_user.uuid.value_counts())"
   ]
  },
  {
   "cell_type": "markdown",
   "metadata": {},
   "source": [
    "There are 1404 user in experiment group who does more than 2 session in a day"
   ]
  },
  {
   "cell_type": "code",
   "execution_count": 79,
   "metadata": {
    "collapsed": false
   },
   "outputs": [
    {
     "data": {
      "text/plain": [
       "0.0028788888888888887"
      ]
     },
     "execution_count": 79,
     "metadata": {},
     "output_type": "execute_result"
    }
   ],
   "source": [
    "# Median for all session\n",
    "exp_user.delta_hr.median()"
   ]
  },
  {
   "cell_type": "code",
   "execution_count": 80,
   "metadata": {
    "collapsed": false
   },
   "outputs": [
    {
     "data": {
      "text/plain": [
       "0.0028669444444444445"
      ]
     },
     "execution_count": 80,
     "metadata": {},
     "output_type": "execute_result"
    }
   ],
   "source": [
    "# Median for more than 1 session\n",
    "exp.delta_hr.median()"
   ]
  },
  {
   "cell_type": "markdown",
   "metadata": {},
   "source": [
    "Median time for each session in control group is 0.002878 hours"
   ]
  },
  {
   "cell_type": "markdown",
   "metadata": {},
   "source": [
    "# # Test of median"
   ]
  },
  {
   "cell_type": "markdown",
   "metadata": {},
   "source": [
    "Non Parametric  wilcoxon test is used to evaluate the difference in median"
   ]
  },
  {
   "cell_type": "markdown",
   "metadata": {},
   "source": [
    "Two groups are created with time for each category; control and experiment"
   ]
  },
  {
   "cell_type": "code",
   "execution_count": 81,
   "metadata": {
    "collapsed": false
   },
   "outputs": [],
   "source": [
    "cont_time= cont.delta_hr"
   ]
  },
  {
   "cell_type": "code",
   "execution_count": 82,
   "metadata": {
    "collapsed": false
   },
   "outputs": [],
   "source": [
    "exp_time=exp.delta_hr"
   ]
  },
  {
   "cell_type": "code",
   "execution_count": 83,
   "metadata": {
    "collapsed": false
   },
   "outputs": [
    {
     "data": {
      "text/plain": [
       "1.0841596336545742"
      ]
     },
     "execution_count": 83,
     "metadata": {},
     "output_type": "execute_result"
    }
   ],
   "source": [
    "cont_time.mean()"
   ]
  },
  {
   "cell_type": "code",
   "execution_count": 84,
   "metadata": {
    "collapsed": false
   },
   "outputs": [
    {
     "data": {
      "text/plain": [
       "1243.0226533333334"
      ]
     },
     "execution_count": 84,
     "metadata": {},
     "output_type": "execute_result"
    }
   ],
   "source": [
    "cont_time.max()"
   ]
  },
  {
   "cell_type": "code",
   "execution_count": 85,
   "metadata": {
    "collapsed": false
   },
   "outputs": [],
   "source": [
    "from scipy import stats\n",
    "cont_time_1= cont_time[(np.abs(stats.zscore(cont_time)) < 0.05)]\n"
   ]
  },
  {
   "cell_type": "code",
   "execution_count": 86,
   "metadata": {
    "collapsed": false
   },
   "outputs": [],
   "source": [
    "exp_time_1= exp_time[(np.abs(stats.zscore(exp_time)) < 0.05)]"
   ]
  },
  {
   "cell_type": "code",
   "execution_count": 87,
   "metadata": {
    "collapsed": false
   },
   "outputs": [
    {
     "data": {
      "text/plain": [
       "1.8841780555555556"
      ]
     },
     "execution_count": 87,
     "metadata": {},
     "output_type": "execute_result"
    }
   ],
   "source": [
    "exp_time_1.max()"
   ]
  },
  {
   "cell_type": "code",
   "execution_count": 88,
   "metadata": {
    "collapsed": false
   },
   "outputs": [
    {
     "data": {
      "text/plain": [
       "1808       0.890090\n",
       "1902       1.542210\n",
       "2196       0.465751\n",
       "5580       1.418960\n",
       "8366       1.509614\n",
       "8847       0.571793\n",
       "9904       0.413805\n",
       "10153      0.491635\n",
       "15506      1.363121\n",
       "16749      1.354832\n",
       "17111      1.189938\n",
       "22529      0.418646\n",
       "23905      0.589804\n",
       "25602      1.692043\n",
       "29237      0.432277\n",
       "29745      1.161978\n",
       "29835      1.770606\n",
       "31081      0.857158\n",
       "34335      0.532339\n",
       "34348      0.471517\n",
       "41766      0.624540\n",
       "41839      0.649969\n",
       "45068      0.990415\n",
       "45573      0.932812\n",
       "47600      0.414728\n",
       "51355      1.273261\n",
       "51779      0.643326\n",
       "52158      0.668463\n",
       "53075      0.770469\n",
       "53187      0.800919\n",
       "             ...   \n",
       "1087207    0.364932\n",
       "1088260    0.771144\n",
       "1090374    1.876407\n",
       "1090401    1.159463\n",
       "1097137    0.378511\n",
       "1099772    0.531334\n",
       "1099986    0.692820\n",
       "1100040    0.742101\n",
       "1100446    0.852367\n",
       "1100602    0.871964\n",
       "1102441    1.884178\n",
       "1103894    0.935948\n",
       "1104211    0.868508\n",
       "1106754    0.607848\n",
       "1107899    1.430965\n",
       "1114101    0.615893\n",
       "1114407    0.369323\n",
       "1114737    0.412872\n",
       "1121112    0.727267\n",
       "1126571    0.605062\n",
       "1129650    0.377177\n",
       "1129660    1.752580\n",
       "1130590    1.706600\n",
       "1132387    0.992717\n",
       "1132431    1.072809\n",
       "1137050    0.844095\n",
       "1138819    0.690530\n",
       "1142125    0.396275\n",
       "1143286    0.829597\n",
       "1143372    0.896227\n",
       "Name: delta_hr, dtype: float64"
      ]
     },
     "execution_count": 88,
     "metadata": {},
     "output_type": "execute_result"
    }
   ],
   "source": [
    "exp_time_1"
   ]
  },
  {
   "cell_type": "code",
   "execution_count": 129,
   "metadata": {
    "collapsed": false
   },
   "outputs": [
    {
     "data": {
      "text/html": [
       "<iframe id=\"igraph\" scrolling=\"no\" style=\"border:none;\" seamless=\"seamless\" src=\"https://plot.ly/~amar.nayak/80.embed\" height=\"525px\" width=\"100%\"></iframe>"
      ],
      "text/plain": [
       "<plotly.tools.PlotlyDisplay object>"
      ]
     },
     "execution_count": 129,
     "metadata": {},
     "output_type": "execute_result"
    }
   ],
   "source": [
    "import plotly.plotly as py\n",
    "import plotly.graph_objs as go\n",
    "\n",
    "import numpy as np\n",
    "\n",
    "x0 = exp_time_1\n",
    "x1 = cont_time_1\n",
    "\n",
    "Experiment = go.Histogram(\n",
    "    x=x0,\n",
    "    opacity=0.75\n",
    ")\n",
    "Control = go.Histogram(\n",
    "    x=x1,\n",
    "    opacity=0.75\n",
    ")\n",
    "\n",
    "data = [Experiment, Control]\n",
    "layout = go.Layout(barmode='overlay')\n",
    "fig = go.Figure(data=data, layout=layout)\n",
    "\n",
    "py.iplot(fig, filename='control Vs experiment')"
   ]
  },
  {
   "cell_type": "code",
   "execution_count": null,
   "metadata": {
    "collapsed": true
   },
   "outputs": [],
   "source": [
    "View the full interactive graph here https://plot.ly/~amar.nayak/80/"
   ]
  },
  {
   "cell_type": "code",
   "execution_count": 89,
   "metadata": {
    "collapsed": false
   },
   "outputs": [
    {
     "data": {
      "text/plain": [
       "<matplotlib.text.Text at 0x2099385a6a0>"
      ]
     },
     "execution_count": 89,
     "metadata": {},
     "output_type": "execute_result"
    },
    {
     "data": {
      "image/png": "[encoded data removed]",
      "text/plain": [
       "<matplotlib.figure.Figure at 0x20993842da0>"
      ]
     },
     "metadata": {},
     "output_type": "display_data"
    }
   ],
   "source": [
    "plt.hist(exp_time_1, bins=50)\n",
    "plt.title('Distribution of mean time for each session')\n",
    "plt.ylabel('Frequency')\n",
    "plt.xlabel('Distribution of mean time in 50 bins')"
   ]
  },
  {
   "cell_type": "code",
   "execution_count": 90,
   "metadata": {
    "collapsed": false
   },
   "outputs": [
    {
     "data": {
      "text/plain": [
       "965"
      ]
     },
     "execution_count": 90,
     "metadata": {},
     "output_type": "execute_result"
    }
   ],
   "source": [
    "len(cont_time_1)"
   ]
  },
  {
   "cell_type": "code",
   "execution_count": 91,
   "metadata": {
    "collapsed": true
   },
   "outputs": [],
   "source": [
    "from scipy.stats import wilcoxon, ttest_ind, mannwhitneyu"
   ]
  },
  {
   "cell_type": "code",
   "execution_count": 92,
   "metadata": {
    "collapsed": true
   },
   "outputs": [],
   "source": [
    "u, p_value = mannwhitneyu(cont_time, exp_time)"
   ]
  },
  {
   "cell_type": "code",
   "execution_count": 93,
   "metadata": {
    "collapsed": false
   },
   "outputs": [
    {
     "name": "stdout",
     "output_type": "stream",
     "text": [
      "two-sample wilcoxon-test\n"
     ]
    },
    {
     "data": {
      "text/plain": [
       "(None, 9.0102176025114764e-35)"
      ]
     },
     "execution_count": 93,
     "metadata": {},
     "output_type": "execute_result"
    }
   ],
   "source": [
    "print (\"two-sample wilcoxon-test\"), p_value"
   ]
  },
  {
   "cell_type": "markdown",
   "metadata": {},
   "source": [
    "R has better statistical features than Python. Therefore, R-Statoitical software is used to carryout the statistical tests."
   ]
  },
  {
   "cell_type": "code",
   "execution_count": 94,
   "metadata": {
    "collapsed": false
   },
   "outputs": [
    {
     "data": {
      "text/html": [
       "<div>\n",
       "<table border=\"1\" class=\"dataframe\">\n",
       "  <thead>\n",
       "    <tr style=\"text-align: right;\">\n",
       "      <th></th>\n",
       "      <th>uuid</th>\n",
       "      <th>created_at</th>\n",
       "      <th>trainer_item_id</th>\n",
       "      <th>created</th>\n",
       "      <th>delta</th>\n",
       "      <th>delta_hr</th>\n",
       "      <th>section</th>\n",
       "      <th>day</th>\n",
       "      <th>group</th>\n",
       "    </tr>\n",
       "  </thead>\n",
       "  <tbody>\n",
       "    <tr>\n",
       "      <th>0</th>\n",
       "      <td>2990</td>\n",
       "      <td>2016-12-25 11:27:22.905</td>\n",
       "      <td>2</td>\n",
       "      <td>2016-12-25 11:27:22.905</td>\n",
       "      <td>0 days 00:00:00</td>\n",
       "      <td>0.000000</td>\n",
       "      <td>100.0</td>\n",
       "      <td>0</td>\n",
       "      <td>Control</td>\n",
       "    </tr>\n",
       "    <tr>\n",
       "      <th>1</th>\n",
       "      <td>2990</td>\n",
       "      <td>2016-12-25 11:27:28.985</td>\n",
       "      <td>0</td>\n",
       "      <td>2016-12-25 11:27:28.985</td>\n",
       "      <td>0 days 00:00:06.080000</td>\n",
       "      <td>0.001689</td>\n",
       "      <td>100.0</td>\n",
       "      <td>0</td>\n",
       "      <td>Control</td>\n",
       "    </tr>\n",
       "    <tr>\n",
       "      <th>2</th>\n",
       "      <td>2990</td>\n",
       "      <td>2016-12-25 11:27:33.603</td>\n",
       "      <td>3</td>\n",
       "      <td>2016-12-25 11:27:33.603</td>\n",
       "      <td>0 days 00:00:04.618000</td>\n",
       "      <td>0.001283</td>\n",
       "      <td>100.0</td>\n",
       "      <td>0</td>\n",
       "      <td>Control</td>\n",
       "    </tr>\n",
       "    <tr>\n",
       "      <th>3</th>\n",
       "      <td>2990</td>\n",
       "      <td>2016-12-25 11:27:38.010</td>\n",
       "      <td>1</td>\n",
       "      <td>2016-12-25 11:27:38.010</td>\n",
       "      <td>0 days 00:00:04.407000</td>\n",
       "      <td>0.001224</td>\n",
       "      <td>100.0</td>\n",
       "      <td>0</td>\n",
       "      <td>Control</td>\n",
       "    </tr>\n",
       "    <tr>\n",
       "      <th>4</th>\n",
       "      <td>2990</td>\n",
       "      <td>2016-12-28 09:40:57.271</td>\n",
       "      <td>604</td>\n",
       "      <td>2016-12-28 09:40:57.271</td>\n",
       "      <td>2 days 22:13:19.261000</td>\n",
       "      <td>70.222017</td>\n",
       "      <td>200.0</td>\n",
       "      <td>2</td>\n",
       "      <td>Control</td>\n",
       "    </tr>\n",
       "  </tbody>\n",
       "</table>\n",
       "</div>"
      ],
      "text/plain": [
       "   uuid              created_at  trainer_item_id                 created  \\\n",
       "0  2990 2016-12-25 11:27:22.905                2 2016-12-25 11:27:22.905   \n",
       "1  2990 2016-12-25 11:27:28.985                0 2016-12-25 11:27:28.985   \n",
       "2  2990 2016-12-25 11:27:33.603                3 2016-12-25 11:27:33.603   \n",
       "3  2990 2016-12-25 11:27:38.010                1 2016-12-25 11:27:38.010   \n",
       "4  2990 2016-12-28 09:40:57.271              604 2016-12-28 09:40:57.271   \n",
       "\n",
       "                   delta   delta_hr  section  day    group  \n",
       "0        0 days 00:00:00   0.000000    100.0    0  Control  \n",
       "1 0 days 00:00:06.080000   0.001689    100.0    0  Control  \n",
       "2 0 days 00:00:04.618000   0.001283    100.0    0  Control  \n",
       "3 0 days 00:00:04.407000   0.001224    100.0    0  Control  \n",
       "4 2 days 22:13:19.261000  70.222017    200.0    2  Control  "
      ]
     },
     "execution_count": 94,
     "metadata": {},
     "output_type": "execute_result"
    }
   ],
   "source": [
    "#Data check\n",
    "\n",
    "file1_AB_2.head()"
   ]
  },
  {
   "cell_type": "code",
   "execution_count": 95,
   "metadata": {
    "collapsed": true
   },
   "outputs": [],
   "source": [
    "file1_AB_3= file1_AB_2.dropna()"
   ]
  },
  {
   "cell_type": "code",
   "execution_count": 96,
   "metadata": {
    "collapsed": true
   },
   "outputs": [],
   "source": [
    "# File exported to notepad for checks and verification\n",
    "\n",
    "file1_AB_3.to_csv(\"file1_AB_2\")"
   ]
  },
  {
   "cell_type": "code",
   "execution_count": 271,
   "metadata": {
    "collapsed": true
   },
   "outputs": [],
   "source": [
    "cont_exp.to_csv(\"cont_exp.csv\")"
   ]
  },
  {
   "cell_type": "markdown",
   "metadata": {},
   "source": [
    "The wilcox rank test for median \n",
    "\n",
    "data:  time by group\n",
    "W = 1.5321e+11, p-value < 2.2e-16\n",
    "alternative hypothesis: true location shift is not equal to 0\n",
    "95 percent confidence interval:\n",
    " -6.994130e-05 -4.142733e-05\n",
    "sample estimates:\n",
    "difference in median (after removing outliers)\n",
    "         -5.216621e-05\n",
    " \n",
    "         \n",
    "\n"
   ]
  },
  {
   "cell_type": "markdown",
   "metadata": {},
   "source": [
    "Summary of AB test (Thses tests were carried out in R): \n",
    "\n",
    "1. Chi Squared test of independence was carried out to check whether there is any relationship between the version of website and the proportion of user who do more than one session in a day. \n",
    "\n",
    "The Chi Squared test shows that there is no relationship between the two experiment groups and the variation is because of chance alone.\n",
    "\n",
    "H0: The version of website and proportion of user doing more than a session are independent (no relation)\n",
    "H1: There is relation between the proportion of user doing more than one session in a day and the website version\n",
    "\n",
    "[,1] [,2]\n",
    "[1,] 1404 2031\n",
    "[2,] 1642 2278\n",
    "\n",
    "data:  babble_AB\n",
    "X-squared = 0.73518, df = 1, p-value = 0.3912\n",
    "\n",
    "There is no enough evidence to reject the null hypothesis. Therefore, in this case, it is concluded that the proportion of user doing more than one session a day is independent of website version. \n",
    "\n",
    "2. Wilcoxon Rank-Sum Test was carried out to test whether there is any difference in median between the two groups with respect to time taken to finish a session. \n",
    "\n",
    "H0: There is no difference in mean\n",
    "H1: There is a difference in mean\n",
    "\n",
    "The results are as follows:\n",
    "\n",
    "W = 1.554e+11 (Test Statistics), p-value < 2.2e-16\n",
    "\n",
    "alternative hypothesis: true, location shift is not equal to 0\n",
    "\n",
    "95 percent confidence interval:\n",
    " -4.977760e-05 -3.673614e-05\n",
    " \n",
    "Sample estimates:\n",
    "Difference in median \n",
    "         -4.042961e-05 \n",
    "\n",
    "Though the P value is less than 0.05, the actual difference between the median is very small (-4.042961e-05 hours).  \n",
    " "
   ]
  },
  {
   "cell_type": "markdown",
   "metadata": {},
   "source": [
    "Recommendation to product manager (Please refer to the document attached with the email): \n",
    "\n",
    "AB test was carried out to test the new version of the webiste, with respect to the exiting version. The statical test shows that the new version is not giving enough significant results to make a change in the website. Therefore, there is no reson to take the new version ahead. It is better to develop a new different version and test it again."
   ]
  }
 ],
 "metadata": {
  "celltoolbar": "Raw Cell Format",
  "kernelspec": {
   "display_name": "Python 3",
   "language": "python",
   "name": "python3"
  },
  "language_info": {
   "codemirror_mode": {
    "name": "ipython",
    "version": 3
   },
   "file_extension": ".py",
   "mimetype": "text/x-python",
   "name": "python",
   "nbconvert_exporter": "python",
   "pygments_lexer": "ipython3",
   "version": "3.6.0"
  }
 },
 "nbformat": 4,
 "nbformat_minor": 2
}
